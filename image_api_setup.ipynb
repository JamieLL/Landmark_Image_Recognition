{
  "nbformat": 4,
  "nbformat_minor": 0,
  "metadata": {
    "colab": {
      "name": "image_api_setup.ipynb",
      "provenance": [],
      "include_colab_link": true
    },
    "kernelspec": {
      "name": "python3",
      "display_name": "Python 3"
    }
  },
  "cells": [
    {
      "cell_type": "markdown",
      "metadata": {
        "id": "view-in-github",
        "colab_type": "text"
      },
      "source": [
        "<a href=\"https://colab.research.google.com/github/Tonyz4516/landmark_image_search/blob/master/image_api_setup.ipynb\" target=\"_parent\"><img src=\"https://colab.research.google.com/assets/colab-badge.svg\" alt=\"Open In Colab\"/></a>"
      ]
    },
    {
      "cell_type": "code",
      "metadata": {
        "id": "TfGpKbEBIhlk"
      },
      "source": [
        ""
      ],
      "execution_count": null,
      "outputs": []
    },
    {
      "cell_type": "code",
      "metadata": {
        "id": "IeAIFudJIqYW"
      },
      "source": [
        "api_key = [\"Your API key here\"]"
      ],
      "execution_count": null,
      "outputs": []
    },
    {
      "cell_type": "code",
      "metadata": {
        "id": "rknCr3DbI0dA"
      },
      "source": [
        "from apiclient.discovery import build"
      ],
      "execution_count": null,
      "outputs": []
    },
    {
      "cell_type": "code",
      "metadata": {
        "id": "whQNPsY2I5UE"
      },
      "source": [
        "resource = build(\"customsearch\", \"v1\", developerKey=api_key).cse()"
      ],
      "execution_count": null,
      "outputs": []
    },
    {
      "cell_type": "code",
      "metadata": {
        "id": "H_61kBJjQ8Mt"
      },
      "source": [
        "def get_images(search_term, num_results):\n",
        "    for i in range(1, num_results, 10):\n",
        "        results = resource.list(q = \"Arlington Street Church Boston\", cx = \"9f8049d96f81a3312\",\n",
        "                                searchType = \"image\", start = i).execute()\n",
        "        for item in results[\"items\"]:\n",
        "            print(item['title'])\n",
        "            print(item['link'])"
      ],
      "execution_count": null,
      "outputs": []
    },
    {
      "cell_type": "code",
      "metadata": {
        "id": "sVTKJhYyNeRX",
        "outputId": "e333e30e-561f-4424-91e4-4dfd2d451944",
        "colab": {
          "base_uri": "https://localhost:8080/",
          "height": 1000
        }
      },
      "source": [
        "get_images(\"Arlington Street Church Boston\", 30)"
      ],
      "execution_count": null,
      "outputs": [
        {
          "output_type": "stream",
          "text": [
            "Arlington Street Church - Wikipedia\n",
            "https://upload.wikimedia.org/wikipedia/commons/c/cb/ArlingtonStChurch_ca1862_byJJHawes_MFABoston.jpeg\n",
            "Arlington Street Church\n",
            "http://www.ascboston.org/img/photos/interior2009.jpg\n",
            "Arlington Street Church - Wikipedia\n",
            "https://upload.wikimedia.org/wikipedia/commons/thumb/c/cb/ArlingtonStChurch_ca1862_byJJHawes_MFABoston.jpeg/250px-ArlingtonStChurch_ca1862_byJJHawes_MFABoston.jpeg\n",
            "Arlington Street Church — Boston Organ Studio\n",
            "https://images.squarespace-cdn.com/content/v1/577bdd7029687fb6015ee418/1469045473460-0XP0R5O0LOTPBDBG69OA/ke17ZwdGBToddI8pDm48kK-0lwQBRYAH-cViqN6Uq81Zw-zPPgdn4jUwVcJE1ZvWhcwhEtWJXoshNdA9f1qD7Xj1nVWs2aaTtWBneO2WM-v_XbAIrBA8E2EbzeTDRUZH8vgnHyO9Q2DGRjaV2k1tuw/image-asset.jpeg\n",
            "File:Arlington Street Church, Boston MA.jpg - Wikimedia Commons\n",
            "https://upload.wikimedia.org/wikipedia/commons/f/f7/Arlington_Street_Church%2C_Boston_MA.jpg\n",
            "Arlington Street Church interior Boston MA Stock Photo - Alamy\n",
            "https://c8.alamy.com/comp/BRTRCA/arlington-street-church-interior-boston-ma-BRTRCA.jpg\n",
            "Arlington Street Church - Wikipedia\n",
            "https://upload.wikimedia.org/wikipedia/commons/thumb/3/30/USA-Boston-Arlington_Street_Church0.jpg/270px-USA-Boston-Arlington_Street_Church0.jpg\n",
            "Interior Arlington Street Church Boston, Massachusetts DSC07022 ...\n",
            "https://c8.alamy.com/comp/JW64KB/interior-arlington-street-church-boston-massachusetts-dsc07022-JW64KB.jpg\n",
            "Arlington Street Church - Wikipedia\n",
            "https://upload.wikimedia.org/wikipedia/commons/thumb/d/dc/Arlington-street-church-interior-01.jpg/170px-Arlington-street-church-interior-01.jpg\n",
            "Arlington St Church | Boston Chamber Music Society\n",
            "https://bostonchambermusic.org/wp-content/uploads/2017/06/ASCExterior.jpg\n",
            "File:Arlington Street Church, Boston MA.jpg - Wikimedia Commons\n",
            "https://upload.wikimedia.org/wikipedia/commons/thumb/f/f7/Arlington_Street_Church%2C_Boston_MA.jpg/1200px-Arlington_Street_Church%2C_Boston_MA.jpg\n",
            "Arlington Street Church, Boston - Lost New England\n",
            "https://lostnewengland.com/wp-content/uploads/2014/08/264_2014.jpg\n",
            "Arlington Street Church - Wikipedia\n",
            "https://upload.wikimedia.org/wikipedia/commons/thumb/7/78/ArlingtonStChurch_byJPSoule_Boston.png/240px-ArlingtonStChurch_byJPSoule_Boston.png\n",
            "Arlington Street Church interior Boston MA Stock Photo - Alamy\n",
            "https://c8.alamy.com/comp/C5B80R/arlington-street-church-interior-boston-ma-C5B80R.jpg\n",
            "The Foundation for the Preservation of 20 Arlington Street ...\n",
            "https://images.squarespace-cdn.com/content/v1/58e29fd420099e5b01f3ce8b/1493159922210-FJLWR9W8ZKAGSCSG8H89/ke17ZwdGBToddI8pDm48kEMJ2i86ESnuyoJ1r5Zby8xZw-zPPgdn4jUwVcJE1ZvWEtT5uBSRWt4vQZAgTJucoTqqXjS3CfNDSuuf31e0tVGKe8xQEufHWzC6O31Gt4MDgUW0qEgbE9aBAd-hCdDwPE5MQtGqEcMG54_CbiUP9jE/image-asset.jpeg\n",
            "Arlington Street Church interior Boston MA Stock Photo - Alamy\n",
            "https://c8.alamy.com/comp/BRTRR2/arlington-street-church-interior-boston-ma-BRTRR2.jpg\n",
            "Arlington Street Church, Boston - Tripadvisor\n",
            "https://media-cdn.tripadvisor.com/media/photo-s/06/45/8b/0c/arlington-street-church.jpg\n",
            "Arlington Street Church - Becky's photos of Back Bay Landmarks\n",
            "http://www.beckydimattia.com/back-bay-landmarks/wp-content/gallery/arlington/DSC06922.JPG\n",
            "BOSTON, MASSACHUSETTS: Spire of the Arlington Street Church Stock ...\n",
            "https://c8.alamy.com/comp/E5K7GN/boston-massachusetts-spire-of-the-arlington-street-church-E5K7GN.jpg\n",
            "Arlington Street Church Weddings Boston and Back Bay\n",
            "https://images.squarespace-cdn.com/content/v1/5b3528c6c258b43811ee768b/1534194394818-WS7PIBGRGMENGOC0D808/ke17ZwdGBToddI8pDm48kGA0N7przCfjQ_YkO4Q8ox5Zw-zPPgdn4jUwVcJE1ZvWQUxwkmyExglNqGp0IvTJZamWLI2zvYWH8K3-s_4yszcp2ryTI0HqTOaaUohrI8PIibvHbugHmfH4QtNhnL-mDKiHawBjIj3pVHtuhwHJqCoKMshLAGzx4R3EDFOm1kBS/wedding+google+1.jpg\n",
            "Arlington Street Church interior Boston MA Stock Photo - Alamy\n",
            "https://c8.alamy.com/comp/BRTRHM/arlington-street-church-interior-boston-ma-BRTRHM.jpg\n",
            "File:Arlington Street Church, Boston Massachusetts.jpg - Wikimedia ...\n",
            "https://upload.wikimedia.org/wikipedia/commons/d/d3/Arlington_Street_Church%2C_Boston_Massachusetts.jpg\n",
            "Arlington Street Church Boston MA Stock Photo - Alamy\n",
            "https://c8.alamy.com/comp/BRTPKF/arlington-street-church-boston-ma-BRTPKF.jpg\n",
            "Arlington Street Church - Wikipedia\n",
            "https://upload.wikimedia.org/wikipedia/commons/thumb/c/c9/John-the-baptist-by-tiffany.jpg/170px-John-the-baptist-by-tiffany.jpg\n",
            "View from Boylston Street, Arlington Street Church, Boston | Image ...\n",
            "https://www.emporis.com/images/show/629042-Large-fullheightview-view-from-boylston-street.jpg\n",
            "Arlington Street Church — Boston Organ Studio\n",
            "https://images.squarespace-cdn.com/content/v1/577bdd7029687fb6015ee418/1469045086479-KCTPYPRWDX1XX5107YOY/ke17ZwdGBToddI8pDm48kL4WrIntsHuCODFzGytxs8sUqsxRUqqbr1mOJYKfIPR7BkMVOKIvmfHLO2bBi0TfjkAIVnobPZt2I4-MyGZZ2wpCRW4BPu10St3TBAUQYVKc8uib480P8HoFZTrt6J00tsJ-ufHzym6pP0uU3MBsZ442Nj6S6LwbidLpreD-QD-B/Arlington+Street+Church+7.jpg\n",
            "Arlington Street Church, Boston | 207692 | EMPORIS\n",
            "https://www.emporis.com/images/show/629040-Large-fullheightview-seen-through-the-trees-from-boston-public-gardens.jpg\n",
            "New England Diary | Blog\n",
            "https://images.squarespace-cdn.com/content/v1/561446cce4b094b629347f8d/1504451613098-9R9CK49HTQQ962PNR2J7/ke17ZwdGBToddI8pDm48kEx6bRSqSUg5pQoSe0W6b9hZw-zPPgdn4jUwVcJE1ZvWhcwhEtWJXoshNdA9f1qD7Xj1nVWs2aaTtWBneO2WM-spVOwUFyb4W6Gd5tWkTZesMYJ1CmLdTeyBv5-43j0T7g/church.jpg\n",
            "Arlington Street Church, the Public Garden, Back Bay skyline Stock ...\n",
            "https://c8.alamy.com/comp/D7K964/arlington-street-church-the-public-garden-back-bay-skyline-boston-D7K964.jpg\n",
            "FIRST - Public Building in Boston's Back Bay - Arlington Street Church\n",
            "http://img.groundspeak.com/waymarking/large/6de83ee2-7cc6-4d6d-bc66-3c08134c7bb3.JPG\n"
          ],
          "name": "stdout"
        }
      ]
    }
  ]
}