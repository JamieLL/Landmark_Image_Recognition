{
  "nbformat": 4,
  "nbformat_minor": 0,
  "metadata": {
    "kernelspec": {
      "display_name": "Python 3",
      "language": "python",
      "name": "python3"
    },
    "language_info": {
      "codemirror_mode": {
        "name": "ipython",
        "version": 3
      },
      "file_extension": ".py",
      "mimetype": "text/x-python",
      "name": "python",
      "nbconvert_exporter": "python",
      "pygments_lexer": "ipython3",
      "version": "3.7.9"
    },
    "colab": {
      "name": "explore-data.ipynb",
      "provenance": [],
      "include_colab_link": true
    }
  },
  "cells": [
    {
      "cell_type": "markdown",
      "metadata": {
        "id": "view-in-github",
        "colab_type": "text"
      },
      "source": [
        "<a href=\"https://colab.research.google.com/github/Tonyz4516/detector-for-masked-faces/blob/master/explore_data.ipynb\" target=\"_parent\"><img src=\"https://colab.research.google.com/assets/colab-badge.svg\" alt=\"Open In Colab\"/></a>"
      ]
    },
    {
      "cell_type": "code",
      "metadata": {
        "id": "VAzlhuzNqWYU"
      },
      "source": [
        "import os\n",
        "import plotly\n",
        "import pandas as pd\n",
        "import numpy as np\n",
        "import plotly.express as px"
      ],
      "execution_count": 12,
      "outputs": []
    },
    {
      "cell_type": "code",
      "metadata": {
        "id": "5VadGdMVqsp1",
        "outputId": "80899acd-778f-471f-ab7a-6d38dd32ee42",
        "colab": {
          "base_uri": "https://localhost:8080/",
          "height": 34
        }
      },
      "source": [
        "from google.colab import drive\n",
        "drive.mount('/content/drive')"
      ],
      "execution_count": 2,
      "outputs": [
        {
          "output_type": "stream",
          "text": [
            "Drive already mounted at /content/drive; to attempt to forcibly remount, call drive.mount(\"/content/drive\", force_remount=True).\n"
          ],
          "name": "stdout"
        }
      ]
    },
    {
      "cell_type": "code",
      "metadata": {
        "id": "nr8FezA-PwcG",
        "outputId": "abb5b2d3-3c8f-4910-b593-440cf0144f9a",
        "colab": {
          "base_uri": "https://localhost:8080/",
          "height": 34
        }
      },
      "source": [
        "!ls drive/My\\ Drive/5500_data"
      ],
      "execution_count": 3,
      "outputs": [
        {
          "output_type": "stream",
          "text": [
            "masked_whn  self-built-masked-face-recognition-dataset\n"
          ],
          "name": "stdout"
        }
      ]
    },
    {
      "cell_type": "code",
      "metadata": {
        "id": "_mNXmVE5qWYe"
      },
      "source": [
        "folder1 = \"drive/My Drive/5500_data/self-built-masked-face-recognition-dataset/\"\n",
        "folder3 = \"drive/My Drive/5500_data/masked_whn/\""
      ],
      "execution_count": 4,
      "outputs": []
    },
    {
      "cell_type": "code",
      "metadata": {
        "id": "1RXxeYmorV45",
        "outputId": "2ea645ad-e351-4391-b68f-5830241d034b",
        "colab": {
          "base_uri": "https://localhost:8080/",
          "height": 34
        }
      },
      "source": [
        "os.listdir(folder1)"
      ],
      "execution_count": 5,
      "outputs": [
        {
          "output_type": "execute_result",
          "data": {
            "text/plain": [
              "['AFDB_masked_face_dataset', 'Readme.docx', 'AFDB_face_dataset', 'test']"
            ]
          },
          "metadata": {
            "tags": []
          },
          "execution_count": 5
        }
      ]
    },
    {
      "cell_type": "code",
      "metadata": {
        "id": "smSXwC6rqWYm"
      },
      "source": [
        "name, mask, count = [], [], []\n",
        "names = set(list(os.listdir(folder1 + 'AFDB_face_dataset'))\n",
        "           + list(os.listdir(folder1 + 'AFDB_masked_face_dataset')))\n",
        "names = list(names)"
      ],
      "execution_count": 6,
      "outputs": []
    },
    {
      "cell_type": "code",
      "metadata": {
        "id": "NUhqWBk6qWYu"
      },
      "source": [
        "face_folder = set(os.listdir(folder1 + 'AFDB_face_dataset/'))\n",
        "mask_folder = set(os.listdir(folder1 + 'AFDB_masked_face_dataset/'))"
      ],
      "execution_count": 7,
      "outputs": []
    },
    {
      "cell_type": "code",
      "metadata": {
        "id": "5mnSpUMWqWYz"
      },
      "source": [
        "'''\n",
        "This part is commented out as we found some of the name folder are not accurate\n",
        "thus diminished the point of make the previous distribution\n",
        "'''\n",
        "# for n in names:\n",
        "#     num_faces = len(list(os.listdir(folder1 + 'AFDB_face_dataset/' + n))) if n in face_folder else 0  \n",
        "#     num_masks = len(list(os.listdir(folder1 + 'AFDB_masked_face_dataset/' + n))) if n in mask_folder else 0\n",
        "#     name += [n,n]\n",
        "#     mask += [\"coverd\",\"unmasked\"]\n",
        "#     count += [num_masks,num_faces]\n",
        "\n",
        "# matrix = [name, mask, count]\n",
        "# df = pd.DataFrame(np.array(matrix).T,columns=[\"name\", 'mask', 'count'])\n",
        "\n",
        "# fig = px.bar(df, x=\"name\", y=\"count\", color=\"mask\", title=\"distribution of real mask dataset\")\n",
        "# fig.write_html(\"the_plot.html\")"
      ],
      "execution_count": 8,
      "outputs": []
    },
    {
      "cell_type": "code",
      "metadata": {
        "id": "CHIKtU8yqWY1"
      },
      "source": [
        ""
      ],
      "execution_count": 9,
      "outputs": []
    },
    {
      "cell_type": "code",
      "metadata": {
        "id": "z19oECpiqWY8"
      },
      "source": [
        ""
      ],
      "execution_count": 11,
      "outputs": []
    },
    {
      "cell_type": "code",
      "metadata": {
        "id": "lVD_WcwUhZ9o"
      },
      "source": [
        ""
      ],
      "execution_count": null,
      "outputs": []
    }
  ]
}