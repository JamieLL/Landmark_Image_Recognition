{
  "nbformat": 4,
  "nbformat_minor": 0,
  "metadata": {
    "kernelspec": {
      "display_name": "Python 3",
      "language": "python",
      "name": "python3"
    },
    "language_info": {
      "codemirror_mode": {
        "name": "ipython",
        "version": 3
      },
      "file_extension": ".py",
      "mimetype": "text/x-python",
      "name": "python",
      "nbconvert_exporter": "python",
      "pygments_lexer": "ipython3",
      "version": "3.7.9"
    },
    "colab": {
      "name": "Copy of explore-data.ipynb",
      "provenance": [],
      "collapsed_sections": [],
      "include_colab_link": true
    }
  },
  "cells": [
    {
      "cell_type": "markdown",
      "metadata": {
        "id": "view-in-github",
        "colab_type": "text"
      },
      "source": [
        "<a href=\"https://colab.research.google.com/github/Tonyz4516/detector-for-masked-faces/blob/master/explore_data.ipynb\" target=\"_parent\"><img src=\"https://colab.research.google.com/assets/colab-badge.svg\" alt=\"Open In Colab\"/></a>"
      ]
    },
    {
      "cell_type": "code",
      "metadata": {
        "id": "VAzlhuzNqWYU"
      },
      "source": [
        "import os\n",
        "import plotly\n",
        "import pandas as pd\n",
        "import numpy as np\n",
        "import plotly.express as px"
      ],
      "execution_count": 1,
      "outputs": []
    },
    {
      "cell_type": "code",
      "metadata": {
        "id": "5VadGdMVqsp1"
      },
      "source": [
        "# from google.colab import drive\n",
        "# drive.mount('/content/drive')"
      ],
      "execution_count": 2,
      "outputs": []
    },
    {
      "cell_type": "code",
      "metadata": {
        "id": "nr8FezA-PwcG",
        "outputId": "4a8121c8-c611-48ce-a18c-e4932bd8fed1",
        "colab": {
          "base_uri": "https://localhost:8080/",
          "height": 242
        }
      },
      "source": [
        "os.listdir(\"C:/Users/Shadow/Documents/5500_data\")"
      ],
      "execution_count": 3,
      "outputs": [
        {
          "output_type": "execute_result",
          "data": {
            "text/plain": [
              "['2-Agedb-30-masked',\n",
              " '2-CASIA-WebFace-mask',\n",
              " '2-CFP-FP-masked',\n",
              " '2-LFW-masked',\n",
              " 'facetest',\n",
              " 'facetest.zip',\n",
              " 'masked_whn',\n",
              " 'masked_whn.zip',\n",
              " 'masktest',\n",
              " 'masktest.zip',\n",
              " 'self-built-masked-face-recognition-dataset',\n",
              " 'unmasked_whn',\n",
              " 'unmasked_whn.zip']"
            ]
          },
          "metadata": {
            "tags": []
          },
          "execution_count": 3
        }
      ]
    },
    {
      "cell_type": "code",
      "metadata": {
        "id": "_mNXmVE5qWYe"
      },
      "source": [
        "folder1 = \"C:/Users/Shadow/Documents/5500_data/self-built-masked-face-recognition-dataset/\"\n",
        "folder3 = \"C:/Users/Shadow/Documents/5500_data/masked_whn/\""
      ],
      "execution_count": 4,
      "outputs": []
    },
    {
      "cell_type": "code",
      "metadata": {
        "id": "1RXxeYmorV45",
        "outputId": "bce58a5a-33db-4526-9d8d-1edae8385360",
        "colab": {
          "base_uri": "https://localhost:8080/",
          "height": 104
        }
      },
      "source": [
        "os.listdir(folder1)"
      ],
      "execution_count": 5,
      "outputs": [
        {
          "output_type": "execute_result",
          "data": {
            "text/plain": [
              "['AFDB_face_dataset',\n",
              " 'AFDB_face_dataset.zip',\n",
              " 'AFDB_masked_face_dataset',\n",
              " 'AFDB_masked_face_dataset.zip',\n",
              " 'Readme.docx']"
            ]
          },
          "metadata": {
            "tags": []
          },
          "execution_count": 5
        }
      ]
    },
    {
      "cell_type": "code",
      "metadata": {
        "id": "smSXwC6rqWYm"
      },
      "source": [
        "name, mask, count = [], [], []\n",
        "names = set(list(os.listdir(folder1 + 'AFDB_face_dataset'))\n",
        "           + list(os.listdir(folder1 + 'AFDB_masked_face_dataset')))\n",
        "names = list(names)"
      ],
      "execution_count": 6,
      "outputs": []
    },
    {
      "cell_type": "code",
      "metadata": {
        "id": "NUhqWBk6qWYu"
      },
      "source": [
        "face_folder = set(os.listdir(folder1 + 'AFDB_face_dataset/'))\n",
        "mask_folder = set(os.listdir(folder1 + 'AFDB_masked_face_dataset/'))"
      ],
      "execution_count": 7,
      "outputs": []
    },
    {
      "cell_type": "code",
      "metadata": {
        "id": "5mnSpUMWqWYz",
        "outputId": "b04329fa-af3a-4b7a-e30b-421291337ebc",
        "colab": {
          "base_uri": "https://localhost:8080/",
          "height": 54
        }
      },
      "source": [
        "'''\n",
        "This part is commented out as we found some of the name folder are not accurate\n",
        "thus diminished the point of make the previous distribution\n",
        "'''\n",
        "# for n in names:\n",
        "#     num_faces = len(list(os.listdir(folder1 + 'AFDB_face_dataset/' + n))) if n in face_folder else 0  \n",
        "#     num_masks = len(list(os.listdir(folder1 + 'AFDB_masked_face_dataset/' + n))) if n in mask_folder else 0\n",
        "#     name += [n,n]\n",
        "#     mask += [\"coverd\",\"unmasked\"]\n",
        "#     count += [num_masks,num_faces]\n",
        "\n",
        "# matrix = [name, mask, count]\n",
        "# df = pd.DataFrame(np.array(matrix).T,columns=[\"name\", 'mask', 'count'])\n",
        "\n",
        "# fig = px.bar(df, x=\"name\", y=\"count\", color=\"mask\", title=\"distribution of real mask dataset\")\n",
        "# fig.write_html(\"the_plot.html\")"
      ],
      "execution_count": 8,
      "outputs": [
        {
          "output_type": "execute_result",
          "data": {
            "text/plain": [
              "'\\nThis part is commented out as we found some of the name folder are not accurate\\nthus diminished the point of make the previous distribution\\n'"
            ]
          },
          "metadata": {
            "tags": []
          },
          "execution_count": 8
        }
      ]
    },
    {
      "cell_type": "markdown",
      "metadata": {
        "id": "UlkpylN0tvqB"
      },
      "source": [
        "### part 2"
      ]
    },
    {
      "cell_type": "code",
      "metadata": {
        "id": "3KWZ63kL0rut"
      },
      "source": [
        "import cv2\n",
        "from tqdm import tqdm"
      ],
      "execution_count": 12,
      "outputs": []
    },
    {
      "cell_type": "code",
      "metadata": {
        "id": "CHIKtU8yqWY1"
      },
      "source": [
        "masked_folder1 = \"C:/Users/Shadow/Documents/5500_data/self-built-masked-face-recognition-dataset/AFDB_masked_face_dataset/\"\n",
        "masked_folder2 = \"C:/Users/Shadow/Documents/5500_data/masked_whn/\"\n",
        "\n",
        "unmasked_folder1 = \"C:/Users/Shadow/Documents/5500_data/self-built-masked-face-recognition-dataset/AFDB_face_dataset/\"\n",
        "unmasked_folder2 = \"C:/Users/Shadow/Documents/5500_data/unmasked_whn/\""
      ],
      "execution_count": 13,
      "outputs": []
    },
    {
      "cell_type": "code",
      "metadata": {
        "id": "z19oECpiqWY8"
      },
      "source": [
        "# global var:\n",
        "error, pic_width, pic_height = [],[],[]\n",
        "def get_width_height(path):\n",
        "    subfolders = os.listdir(path)\n",
        "    for i in tqdm(range(len(subfolders))):\n",
        "        sub = subfolders[i]\n",
        "        for pic in os.listdir(path + sub + \"/\"):\n",
        "            img = cv2.imread(path + sub + \"/\" + pic)\n",
        "            if img is None:\n",
        "                error.append(path + sub + \"/\" + pic)\n",
        "                continue\n",
        "            height, width, channels = img.shape\n",
        "            pic_width.append(width)\n",
        "            pic_height.append(height)"
      ],
      "execution_count": 14,
      "outputs": []
    },
    {
      "cell_type": "code",
      "metadata": {
        "id": "lVD_WcwUhZ9o",
        "outputId": "b1bf2453-1d98-4c55-b66d-f7b901015c4f",
        "colab": {
          "base_uri": "https://localhost:8080/",
          "height": 86
        }
      },
      "source": [
        "for p in [masked_folder1, masked_folder2, unmasked_folder1, unmasked_folder2]:\n",
        "    get_width_height(p)"
      ],
      "execution_count": 15,
      "outputs": [
        {
          "output_type": "stream",
          "text": [
            "100%|████████████████████████████████████████████████████████████████████████████████| 524/524 [00:34<00:00, 15.26it/s]\n",
            "100%|████████████████████████████████████████████████████████████████████████████████| 427/427 [01:09<00:00,  6.11it/s]\n",
            "100%|████████████████████████████████████████████████████████████████████████████████| 459/459 [01:56<00:00,  3.95it/s]\n",
            "100%|███████████████████████████████████████████████████████████████████████████████| 426/426 [00:01<00:00, 404.94it/s]\n"
          ],
          "name": "stderr"
        }
      ]
    },
    {
      "cell_type": "code",
      "metadata": {
        "id": "ZkSwG5QC0qfI"
      },
      "source": [
        "fig = px.scatter(x=pic_width, y=pic_height)\n",
        "fig.update_traces(opacity=0.2)\n",
        "fig.write_html(\"C:/Users/Shadow/Documents/the_plot.html\")"
      ],
      "execution_count": 16,
      "outputs": []
    },
    {
      "cell_type": "code",
      "metadata": {
        "id": "2NAsWM0F1Ri_"
      },
      "source": [
        ""
      ],
      "execution_count": null,
      "outputs": []
    }
  ]
}