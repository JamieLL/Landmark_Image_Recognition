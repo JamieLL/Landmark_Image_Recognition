{
  "nbformat": 4,
  "nbformat_minor": 0,
  "metadata": {
    "kernelspec": {
      "display_name": "Python 3",
      "language": "python",
      "name": "python3"
    },
    "language_info": {
      "codemirror_mode": {
        "name": "ipython",
        "version": 3
      },
      "file_extension": ".py",
      "mimetype": "text/x-python",
      "name": "python",
      "nbconvert_exporter": "python",
      "pygments_lexer": "ipython3",
      "version": "3.7.9"
    },
    "colab": {
      "name": "image_processing(local).ipynb",
      "provenance": [],
      "include_colab_link": true
    }
  },
  "cells": [
    {
      "cell_type": "markdown",
      "metadata": {
        "id": "view-in-github",
        "colab_type": "text"
      },
      "source": [
        "<a href=\"https://colab.research.google.com/github/Tonyz4516/detector-for-masked-faces/blob/master/image_processing(local).ipynb\" target=\"_parent\"><img src=\"https://colab.research.google.com/assets/colab-badge.svg\" alt=\"Open In Colab\"/></a>"
      ]
    },
    {
      "cell_type": "markdown",
      "metadata": {
        "id": "aQoEbmBxKaoJ"
      },
      "source": [
        "\n",
        "Before running this notebook, please download the data from [this site](https://github.com/X-zhangyang/Real-World-Masked-Face-Dataset)\n",
        "and load the rar files in to your Google Drive\n"
      ]
    },
    {
      "cell_type": "code",
      "metadata": {
        "id": "HIREZKRrzsyX"
      },
      "source": [
        "# !pip install -q tf-nightly\n",
        "# !pip install ipywidgets\n",
        "# !jupyter nbextension enable --py widgetsnbextension\n",
        "# !pip install opencv-python"
      ],
      "execution_count": null,
      "outputs": []
    },
    {
      "cell_type": "code",
      "metadata": {
        "id": "w1KPcgQYzsye"
      },
      "source": [
        "import matplotlib.pyplot as plt\n",
        "import numpy as np\n",
        "import tensorflow as tf\n",
        "import tensorflow_datasets as tfds\n",
        "\n",
        "from tensorflow.keras import layers\n",
        "from tensorflow.keras.datasets import mnist"
      ],
      "execution_count": 2,
      "outputs": []
    },
    {
      "cell_type": "code",
      "metadata": {
        "id": "fteWXEyFzsyi"
      },
      "source": [
        "import os\n",
        "import cv2 as cv\n",
        "from tqdm import tqdm"
      ],
      "execution_count": 3,
      "outputs": []
    },
    {
      "cell_type": "code",
      "metadata": {
        "id": "8p4TaYO_QExp",
        "colab": {
          "base_uri": "https://localhost:8080/"
        },
        "outputId": "ce66e741-9490-4afc-8814-17566e093e11"
      },
      "source": [
        "folder = \"C:/Users/Shadow/Documents/dataset/human_body/\"\n",
        "len(os.listdir(folder))"
      ],
      "execution_count": 10,
      "outputs": [
        {
          "output_type": "execute_result",
          "data": {
            "text/plain": [
              "1866"
            ]
          },
          "metadata": {
            "tags": []
          },
          "execution_count": 10
        }
      ]
    },
    {
      "cell_type": "code",
      "metadata": {
        "id": "RbFTnw3zzsy6"
      },
      "source": [
        "def augment(img, path, file):\n",
        "    flip = tf.image.flip_left_right(img)\n",
        "    gray = tf.image.rgb_to_grayscale(img)\n",
        "    red = tf.image.adjust_hue(img,0.9)\n",
        "    green = tf.image.adjust_hue(img, 0.3)\n",
        "    yellow = tf.image.adjust_hue(img, 0.1)\n",
        "    flip_gray = tf.image.rgb_to_grayscale(flip)\n",
        "    flip_red = tf.image.adjust_hue(flip,0.9)\n",
        "    flip_green = tf.image.adjust_hue(flip,0.3)\n",
        "    flip_yellow = tf.image.adjust_hue(flip,0.1)\n",
        "    au_img = [flip, gray, red, green, yellow, flip_gray, flip_red, flip_green, flip_yellow]\n",
        "    au_name = [\"flip\", \"gray\", \"red\", \"green\", \"yellow\", \"flip_gray\", \"flip_red\", \"flip_green\",\n",
        "               \"flip_yellow\"]\n",
        "    for idx, image in enumerate(au_img):\n",
        "        tf.keras.preprocessing.image.save_img(path + file + \"_%s.jpg\"%au_name[idx], image, data_format= \"channels_last\")  "
      ],
      "execution_count": 5,
      "outputs": []
    },
    {
      "cell_type": "markdown",
      "metadata": {
        "id": "jd5MZXg5LxWW"
      },
      "source": [
        "#### process image in folder"
      ]
    },
    {
      "cell_type": "code",
      "metadata": {
        "id": "BhZK0gDMzsy2",
        "colab": {
          "base_uri": "https://localhost:8080/"
        },
        "outputId": "08e209ab-3067-47d9-a737-ed9db907edab"
      },
      "source": [
        "# show the first 10 people\n",
        "os.listdir(folder)[:10]"
      ],
      "execution_count": 6,
      "outputs": [
        {
          "output_type": "execute_result",
          "data": {
            "text/plain": [
              "['train_00000319-0.jpg',\n",
              " 'train_00000432-0.jpg',\n",
              " 'train_00000610-0.jpg',\n",
              " 'train_00000928-1.jpg',\n",
              " 'train_00000936-0.jpg',\n",
              " 'train_00000949-0.jpg',\n",
              " 'train_00000994-0.jpg',\n",
              " 'train_00001080-1.jpg',\n",
              " 'train_00001102-0.jpg',\n",
              " 'train_00001124-0.jpg']"
            ]
          },
          "metadata": {
            "tags": []
          },
          "execution_count": 6
        }
      ]
    },
    {
      "cell_type": "code",
      "metadata": {
        "id": "SAXAEm3Wzsy_",
        "colab": {
          "base_uri": "https://localhost:8080/"
        },
        "outputId": "fc69c9e2-3958-4e91-a57d-fd32fd9edd1e"
      },
      "source": [
        "length = len(os.listdir(folder))\n",
        "files = os.listdir(folder)\n",
        "for i in tqdm(range(length)):\n",
        "    f = files[i]\n",
        "    img = cv.imread(folder + f)\n",
        "    img = cv.cvtColor(img, cv.COLOR_BGR2RGB)\n",
        "    augment(img, folder, f)"
      ],
      "execution_count": 11,
      "outputs": [
        {
          "output_type": "stream",
          "text": [
            "\r  0%|                                                                                         | 0/1866 [00:00<?, ?it/s]"
          ],
          "name": "stderr"
        },
        {
          "output_type": "stream",
          "text": [
            "2020-11-27 17:40:14.773855\n"
          ],
          "name": "stdout"
        },
        {
          "output_type": "stream",
          "text": [
            "100%|██████████████████████████████████████████████████████████████████████████████| 1866/1866 [01:04<00:00, 29.00it/s]"
          ],
          "name": "stderr"
        },
        {
          "output_type": "stream",
          "text": [
            "2020-11-27 17:41:19.144834\n"
          ],
          "name": "stdout"
        },
        {
          "output_type": "stream",
          "text": [
            "\n"
          ],
          "name": "stderr"
        }
      ]
    }
  ]
}