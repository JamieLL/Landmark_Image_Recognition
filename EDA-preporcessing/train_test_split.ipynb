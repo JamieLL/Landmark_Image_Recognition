{
  "nbformat": 4,
  "nbformat_minor": 0,
  "metadata": {
    "colab": {
      "name": "train_test_split",
      "provenance": [],
      "collapsed_sections": [],
      "authorship_tag": "ABX9TyMvZLc8xHmiAmf7yEOpamjL",
      "include_colab_link": true
    },
    "kernelspec": {
      "name": "python3",
      "display_name": "Python 3"
    }
  },
  "cells": [
    {
      "cell_type": "markdown",
      "metadata": {
        "id": "view-in-github",
        "colab_type": "text"
      },
      "source": [
        "<a href=\"https://colab.research.google.com/github/Tonyz4516/detector-for-masked-faces/blob/master/train_test_split.ipynb\" target=\"_parent\"><img src=\"https://colab.research.google.com/assets/colab-badge.svg\" alt=\"Open In Colab\"/></a>"
      ]
    },
    {
      "cell_type": "code",
      "metadata": {
        "id": "lrrk8RcDXTtI",
        "outputId": "997125c0-9ee7-4388-84e7-391a8021b7f2",
        "colab": {
          "base_uri": "https://localhost:8080/",
          "height": 34
        }
      },
      "source": [
        "from google.colab import drive\n",
        "drive.mount('/content/drive')"
      ],
      "execution_count": 10,
      "outputs": [
        {
          "output_type": "stream",
          "text": [
            "Drive already mounted at /content/drive; to attempt to forcibly remount, call drive.mount(\"/content/drive\", force_remount=True).\n"
          ],
          "name": "stdout"
        }
      ]
    },
    {
      "cell_type": "code",
      "metadata": {
        "id": "6MmqDu9DYTif",
        "outputId": "7abce6fe-6d16-4a30-dd68-61c3fca72d64",
        "colab": {
          "base_uri": "https://localhost:8080/",
          "height": 34
        }
      },
      "source": [
        "!ls drive/My\\ Drive/5500_data"
      ],
      "execution_count": 11,
      "outputs": [
        {
          "output_type": "stream",
          "text": [
            "masked_whn  self-built-masked-face-recognition-dataset\tunmasked_whn\n"
          ],
          "name": "stdout"
        }
      ]
    },
    {
      "cell_type": "code",
      "metadata": {
        "id": "wiZcepJwYJoi"
      },
      "source": [
        "masked_folder1 = \"drive/My Drive/5500_data/self-built-masked-face-recognition-dataset/AFDB_masked_face_dataset/\"\n",
        "masked_folder2 = \"drive/My Drive/5500_data/masked_whn/\"\n",
        "\n",
        "unmasked_folder1 = \"drive/My Drive/5500_data/self-built-masked-face-recognition-dataset/AFDB_face_dataset/\"\n",
        "unmasked_folder2 = \"drive/My Drive/5500_data/unmasked_whn/\""
      ],
      "execution_count": 20,
      "outputs": []
    },
    {
      "cell_type": "markdown",
      "metadata": {
        "id": "n_HheqU_hQC-"
      },
      "source": [
        "Now we create a train / test folder and copy all processed image to the two folders"
      ]
    },
    {
      "cell_type": "code",
      "metadata": {
        "id": "tth7nIg6hPL0"
      },
      "source": [
        "import os \n",
        "import shutil\n",
        "from tqdm import tqdm\n",
        "import pandas as pd\n",
        "import numpy as np"
      ],
      "execution_count": 35,
      "outputs": []
    },
    {
      "cell_type": "code",
      "metadata": {
        "id": "1UWC8sK1m_86",
        "outputId": "6fb4b19e-1685-4287-ebf4-60e13952c8c7",
        "colab": {
          "base_uri": "https://localhost:8080/",
          "height": 34
        }
      },
      "source": [
        "# number of masked photos: 60106\n",
        "count = 0\n",
        "for sub in os.listdir(masked_folder1):\n",
        "    count += len(os.listdir(masked_folder1 + sub))\n",
        "for sub in os.listdir(masked_folder2):\n",
        "    count += len(os.listdir(masked_folder2 + sub))\n",
        "count"
      ],
      "execution_count": 18,
      "outputs": [
        {
          "output_type": "execute_result",
          "data": {
            "text/plain": [
              "60106"
            ]
          },
          "metadata": {
            "tags": []
          },
          "execution_count": 18
        }
      ]
    },
    {
      "cell_type": "code",
      "metadata": {
        "id": "liIO7jZwoKlT",
        "outputId": "1e127751-0aa2-4915-f6fa-36735f9efbc3",
        "colab": {
          "base_uri": "https://localhost:8080/",
          "height": 34
        }
      },
      "source": [
        "# number of unmasked photos: 90723 (if it says 90894, there is some minor issue we can fix later)\n",
        "count = 0\n",
        "for sub in os.listdir(unmasked_folder1):\n",
        "    count += len(os.listdir(unmasked_folder1 + sub))\n",
        "for sub in os.listdir(unmasked_folder2):\n",
        "    count += len(os.listdir(unmasked_folder2 + sub))\n",
        "count"
      ],
      "execution_count": 21,
      "outputs": [
        {
          "output_type": "execute_result",
          "data": {
            "text/plain": [
              "90894"
            ]
          },
          "metadata": {
            "tags": []
          },
          "execution_count": 21
        }
      ]
    },
    {
      "cell_type": "code",
      "metadata": {
        "id": "f5Y9XfTWot_B"
      },
      "source": [
        "df = {\"label\": [], \"image_path\": []}\n",
        "\n",
        "def image_info2df(folder_path, label):\n",
        "    folder1 = os.listdir(folder_path)\n",
        "    for i in tqdm(range(len(folder1))):\n",
        "        subf = folder1[i]\n",
        "        for f in os.listdir(folder_path + subf):\n",
        "            df[\"label\"].append(label)\n",
        "            df[\"image_path\"].append(folder_path + subf + \"/\" + f)"
      ],
      "execution_count": 31,
      "outputs": []
    },
    {
      "cell_type": "code",
      "metadata": {
        "id": "6ZiY-JtfqfhW",
        "outputId": "04c0d5a0-81fd-4e08-d63c-46dace5a327a",
        "colab": {
          "base_uri": "https://localhost:8080/",
          "height": 86
        }
      },
      "source": [
        "image_info2df(masked_folder1, \"mask\")\n",
        "image_info2df(masked_folder2, \"mask\")\n",
        "image_info2df(unmasked_folder1, \"face\")\n",
        "image_info2df(unmasked_folder2, \"face\")"
      ],
      "execution_count": 32,
      "outputs": [
        {
          "output_type": "stream",
          "text": [
            "100%|██████████| 525/525 [00:00<00:00, 1145.85it/s]\n",
            "100%|██████████| 427/427 [00:00<00:00, 796.37it/s]\n",
            "100%|██████████| 460/460 [00:01<00:00, 436.87it/s]\n",
            "100%|██████████| 426/426 [00:00<00:00, 3058.39it/s]\n"
          ],
          "name": "stderr"
        }
      ]
    },
    {
      "cell_type": "code",
      "metadata": {
        "id": "cp3zR-hDq8mp"
      },
      "source": [
        "data = pd.DataFrame.from_dict(df)"
      ],
      "execution_count": 36,
      "outputs": []
    },
    {
      "cell_type": "code",
      "metadata": {
        "id": "zDctv33dry1Y",
        "outputId": "9cd62990-5403-4503-cab7-0f38a5b34042",
        "colab": {
          "base_uri": "https://localhost:8080/",
          "height": 349
        }
      },
      "source": [
        "data.head(10)"
      ],
      "execution_count": 38,
      "outputs": [
        {
          "output_type": "execute_result",
          "data": {
            "text/html": [
              "<div>\n",
              "<style scoped>\n",
              "    .dataframe tbody tr th:only-of-type {\n",
              "        vertical-align: middle;\n",
              "    }\n",
              "\n",
              "    .dataframe tbody tr th {\n",
              "        vertical-align: top;\n",
              "    }\n",
              "\n",
              "    .dataframe thead th {\n",
              "        text-align: right;\n",
              "    }\n",
              "</style>\n",
              "<table border=\"1\" class=\"dataframe\">\n",
              "  <thead>\n",
              "    <tr style=\"text-align: right;\">\n",
              "      <th></th>\n",
              "      <th>label</th>\n",
              "      <th>image_path</th>\n",
              "    </tr>\n",
              "  </thead>\n",
              "  <tbody>\n",
              "    <tr>\n",
              "      <th>0</th>\n",
              "      <td>mask</td>\n",
              "      <td>drive/My Drive/5500_data/self-built-masked-fac...</td>\n",
              "    </tr>\n",
              "    <tr>\n",
              "      <th>1</th>\n",
              "      <td>mask</td>\n",
              "      <td>drive/My Drive/5500_data/self-built-masked-fac...</td>\n",
              "    </tr>\n",
              "    <tr>\n",
              "      <th>2</th>\n",
              "      <td>mask</td>\n",
              "      <td>drive/My Drive/5500_data/self-built-masked-fac...</td>\n",
              "    </tr>\n",
              "    <tr>\n",
              "      <th>3</th>\n",
              "      <td>mask</td>\n",
              "      <td>drive/My Drive/5500_data/self-built-masked-fac...</td>\n",
              "    </tr>\n",
              "    <tr>\n",
              "      <th>4</th>\n",
              "      <td>mask</td>\n",
              "      <td>drive/My Drive/5500_data/self-built-masked-fac...</td>\n",
              "    </tr>\n",
              "    <tr>\n",
              "      <th>5</th>\n",
              "      <td>mask</td>\n",
              "      <td>drive/My Drive/5500_data/self-built-masked-fac...</td>\n",
              "    </tr>\n",
              "    <tr>\n",
              "      <th>6</th>\n",
              "      <td>mask</td>\n",
              "      <td>drive/My Drive/5500_data/self-built-masked-fac...</td>\n",
              "    </tr>\n",
              "    <tr>\n",
              "      <th>7</th>\n",
              "      <td>mask</td>\n",
              "      <td>drive/My Drive/5500_data/self-built-masked-fac...</td>\n",
              "    </tr>\n",
              "    <tr>\n",
              "      <th>8</th>\n",
              "      <td>mask</td>\n",
              "      <td>drive/My Drive/5500_data/self-built-masked-fac...</td>\n",
              "    </tr>\n",
              "    <tr>\n",
              "      <th>9</th>\n",
              "      <td>mask</td>\n",
              "      <td>drive/My Drive/5500_data/self-built-masked-fac...</td>\n",
              "    </tr>\n",
              "  </tbody>\n",
              "</table>\n",
              "</div>"
            ],
            "text/plain": [
              "  label                                         image_path\n",
              "0  mask  drive/My Drive/5500_data/self-built-masked-fac...\n",
              "1  mask  drive/My Drive/5500_data/self-built-masked-fac...\n",
              "2  mask  drive/My Drive/5500_data/self-built-masked-fac...\n",
              "3  mask  drive/My Drive/5500_data/self-built-masked-fac...\n",
              "4  mask  drive/My Drive/5500_data/self-built-masked-fac...\n",
              "5  mask  drive/My Drive/5500_data/self-built-masked-fac...\n",
              "6  mask  drive/My Drive/5500_data/self-built-masked-fac...\n",
              "7  mask  drive/My Drive/5500_data/self-built-masked-fac...\n",
              "8  mask  drive/My Drive/5500_data/self-built-masked-fac...\n",
              "9  mask  drive/My Drive/5500_data/self-built-masked-fac..."
            ]
          },
          "metadata": {
            "tags": []
          },
          "execution_count": 38
        }
      ]
    },
    {
      "cell_type": "code",
      "metadata": {
        "id": "dPbi7daGt1LT",
        "outputId": "2a7a3fcb-dd14-4eed-be3f-924f52128247",
        "colab": {
          "base_uri": "https://localhost:8080/",
          "height": 34
        }
      },
      "source": [
        "data.shape"
      ],
      "execution_count": 56,
      "outputs": [
        {
          "output_type": "execute_result",
          "data": {
            "text/plain": [
              "(151000, 2)"
            ]
          },
          "metadata": {
            "tags": []
          },
          "execution_count": 56
        }
      ]
    },
    {
      "cell_type": "code",
      "metadata": {
        "id": "DQD9uyl-sxF9"
      },
      "source": [
        "import random\n",
        "loc = list(range(data.shape[0]))\n",
        "random.seed(42)\n",
        "random.shuffle(loc)"
      ],
      "execution_count": 53,
      "outputs": []
    },
    {
      "cell_type": "code",
      "metadata": {
        "id": "gHA1I1bytAEB",
        "outputId": "c655c03c-4643-4998-90db-afbef0f65dd7",
        "colab": {
          "base_uri": "https://localhost:8080/",
          "height": 34
        }
      },
      "source": [
        "loc[:10]"
      ],
      "execution_count": 55,
      "outputs": [
        {
          "output_type": "execute_result",
          "data": {
            "text/plain": [
              "[101789, 86568, 105338, 39643, 78672, 54081, 127764, 94073, 110184, 19317]"
            ]
          },
          "metadata": {
            "tags": []
          },
          "execution_count": 55
        }
      ]
    },
    {
      "cell_type": "code",
      "metadata": {
        "id": "8r_W2BkgtgTl"
      },
      "source": [
        "train_loc = loc[:113250]  # first 75%\n",
        "test_loc = loc[113250:]\n",
        "\n",
        "data.iloc[train_loc,].to_csv(\"drive/My Drive/5500_data/train_list.csv\")\n",
        "data.iloc[test_loc,].to_csv(\"drive/My Drive/5500_data/test_list.csv\")"
      ],
      "execution_count": 57,
      "outputs": []
    },
    {
      "cell_type": "code",
      "metadata": {
        "id": "5JnvMYgIuMVq"
      },
      "source": [
        ""
      ],
      "execution_count": null,
      "outputs": []
    }
  ]
}