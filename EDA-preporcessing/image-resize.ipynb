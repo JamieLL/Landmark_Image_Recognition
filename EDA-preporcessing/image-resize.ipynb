{
 "cells": [
  {
   "cell_type": "markdown",
   "metadata": {},
   "source": [
    "## Directly resize: stretch"
   ]
  },
  {
   "cell_type": "code",
   "execution_count": null,
   "metadata": {},
   "outputs": [],
   "source": [
    "# To resize all images to (160, 160)\n",
    "trainpath = \"..\\data\\\\train_raw\"\n",
    "testpath = \"..\\data\\\\test_raw\"\n",
    "train_outputpath = '../data/train/'\n",
    "test_outputpath = '../data/test/'"
   ]
  },
  {
   "cell_type": "code",
   "execution_count": null,
   "metadata": {},
   "outputs": [],
   "source": [
    "from PIL import Image\n",
    "import os"
   ]
  },
  {
   "cell_type": "code",
   "execution_count": null,
   "metadata": {},
   "outputs": [],
   "source": [
    "def resize(file_dir, outputpath):\n",
    "    for root, dirs, files in os.walk(file_dir):\n",
    "#         print(root, dirs, files)\n",
    "        for i in files:\n",
    "            if i.endswith('.jpg'):\n",
    "                try:\n",
    "                    im=Image.open(root+\"/\"+i)\n",
    "                    out=im.resize((160,160))\n",
    "                    out.save(outputpath+root.split(\"\\\\\")[-1]+\"/\"+i)\n",
    "                except:\n",
    "                    print(i)"
   ]
  },
  {
   "cell_type": "code",
   "execution_count": null,
   "metadata": {},
   "outputs": [],
   "source": [
    "resize(trainpath, train_outputpath)"
   ]
  },
  {
   "cell_type": "markdown",
   "metadata": {},
   "source": [
    "exception: \\\n",
    "10391.jpg \\\n",
    "17191.jpg \\\n",
    "19578.jpg \\\n",
    "22428.jpg \\\n",
    "32638.jpg \\\n",
    "349.jpg \\\n",
    "95045.jpg"
   ]
  },
  {
   "cell_type": "code",
   "execution_count": null,
   "metadata": {},
   "outputs": [],
   "source": [
    "resize(testpath, test_outputpath)"
   ]
  },
  {
   "cell_type": "markdown",
   "metadata": {},
   "source": [
    "exceptions: \\\n",
    "4103.jpg \\\n",
    "6165.jpg \\\n",
    "7353.jpg"
   ]
  },
  {
   "cell_type": "markdown",
   "metadata": {},
   "source": [
    "## Resize without distortion: add black frame\n",
    "Reference: https://www.cnblogs.com/ansang/p/8491750.html"
   ]
  },
  {
   "cell_type": "code",
   "execution_count": 1,
   "metadata": {},
   "outputs": [],
   "source": [
    "import cv2\n",
    "import os"
   ]
  },
  {
   "cell_type": "code",
   "execution_count": 2,
   "metadata": {},
   "outputs": [],
   "source": [
    "# To resize all images to (160, 160)\n",
    "trainpath = \"../data/cleaned_data_detector/train\"\n",
    "testpath = \"../data/cleaned_data_detector/test\"\n",
    "train_outputpath = '../data/cleaned_data_detector/train_resize/'\n",
    "test_outputpath = '../data/cleaned_data_detector/test_resize/'"
   ]
  },
  {
   "cell_type": "code",
   "execution_count": 3,
   "metadata": {},
   "outputs": [],
   "source": [
    "def resize_image(image, height=160, width=160):\n",
    "    top, bottom, left, right = (0, 0, 0, 0)\n",
    "    h, w, _ = image.shape\n",
    "    longest_edge = max(h, w)\n",
    "    \n",
    "    if h < longest_edge:\n",
    "        dh = longest_edge - h\n",
    "        top = dh // 2\n",
    "        bottom = dh - top\n",
    "    elif w < longest_edge:\n",
    "        dw = longest_edge - w\n",
    "        left = dw // 2\n",
    "        right = dw - left\n",
    "    else:\n",
    "        pass\n",
    "\n",
    "    BLACK = [0, 0, 0]\n",
    "    constant = cv2.copyMakeBorder(image, top, bottom, left, right, cv2.BORDER_CONSTANT, value=BLACK)\n",
    "    \n",
    "    return cv2.resize(constant, (height, width))"
   ]
  },
  {
   "cell_type": "code",
   "execution_count": 4,
   "metadata": {},
   "outputs": [],
   "source": [
    "def resize_addframe(path, outputpath):\n",
    "    for root, dirs, files in os.walk(path):\n",
    "        for i in files:\n",
    "            if i.endswith('.jpg'):\n",
    "                try:\n",
    "                    im=cv2.imread(root+\"/\"+i)\n",
    "                    img = resize_image(im, 160, 160)\n",
    "                    out = outputpath+root.split(\"\\\\\")[-1]+\"/\"+i\n",
    "                    cv2.imwrite(out, img)\n",
    "                except:\n",
    "                    print(i)"
   ]
  },
  {
   "cell_type": "code",
   "execution_count": null,
   "metadata": {},
   "outputs": [],
   "source": [
    "resize_addframe(trainpath, train_outputpath)\n",
    "resize_addframe(testpath, test_outputpath)"
   ]
  }
 ],
 "metadata": {
  "kernelspec": {
   "display_name": "Python 3",
   "language": "python",
   "name": "python3"
  },
  "language_info": {
   "codemirror_mode": {
    "name": "ipython",
    "version": 3
   },
   "file_extension": ".py",
   "mimetype": "text/x-python",
   "name": "python",
   "nbconvert_exporter": "python",
   "pygments_lexer": "ipython3",
   "version": "3.7.3"
  }
 },
 "nbformat": 4,
 "nbformat_minor": 4
}
