{
  "nbformat": 4,
  "nbformat_minor": 0,
  "metadata": {
    "colab": {
      "name": "Classifier-2.ipynb",
      "provenance": [],
      "authorship_tag": "ABX9TyNfINU/elr7tfLT9tpNuyxX",
      "include_colab_link": true
    },
    "kernelspec": {
      "name": "python3",
      "display_name": "Python 3"
    }
  },
  "cells": [
    {
      "cell_type": "markdown",
      "metadata": {
        "id": "view-in-github",
        "colab_type": "text"
      },
      "source": [
        "<a href=\"https://colab.research.google.com/github/Tonyz4516/detector-for-masked-faces/blob/master/Classifier_2.ipynb\" target=\"_parent\"><img src=\"https://colab.research.google.com/assets/colab-badge.svg\" alt=\"Open In Colab\"/></a>"
      ]
    },
    {
      "cell_type": "code",
      "metadata": {
        "id": "qIIYtdc5FlfE",
        "outputId": "e4d73f0c-b4b3-4b2d-d605-272f8e2535c1",
        "colab": {
          "base_uri": "https://localhost:8080/",
          "height": 34
        }
      },
      "source": [
        "from google.colab import drive\n",
        "drive.mount('/content/drive')"
      ],
      "execution_count": 1,
      "outputs": [
        {
          "output_type": "stream",
          "text": [
            "Mounted at /content/drive\n"
          ],
          "name": "stdout"
        }
      ]
    },
    {
      "cell_type": "code",
      "metadata": {
        "id": "neaXwp1bJU_i"
      },
      "source": [
        "import os \n",
        "from tqdm import tqdm\n",
        "import pandas as pd\n",
        "import numpy as np\n",
        "import matplotlib.pyplot as plt"
      ],
      "execution_count": 3,
      "outputs": []
    },
    {
      "cell_type": "code",
      "metadata": {
        "id": "7ySequweIIcJ"
      },
      "source": [
        "train_embeddings = pd.read_csv(\"drive/My Drive/5500_Project/facenet_mask_detector/embarray_train.txt\", sep=\" \", header=None)\n",
        "test_embeddings = pd.read_csv(\"drive/My Drive/5500_Project/facenet_mask_detector/embarray_test.txt\", sep=\" \", header=None)"
      ],
      "execution_count": 3,
      "outputs": []
    },
    {
      "cell_type": "code",
      "metadata": {
        "id": "ziLK4hl5JvyM"
      },
      "source": [
        "train_labels = pd.read_csv(\"drive/My Drive/5500_Project/facenet_mask_detector/labels_train.txt\", sep=\" \", header=None)\n",
        "test_labels = pd.read_csv(\"drive/My Drive/5500_Project/facenet_mask_detector/labels_test.txt\", sep=\" \", header= None)\n",
        "train_labels.columns = [\"label\"]\n",
        "test_labels.columns = [\"label\"]"
      ],
      "execution_count": 4,
      "outputs": []
    },
    {
      "cell_type": "code",
      "metadata": {
        "id": "IT8oM2OfKVCe",
        "outputId": "20afc879-5ab4-45b9-ccdb-043d167f5ee2",
        "colab": {
          "base_uri": "https://localhost:8080/",
          "height": 68
        }
      },
      "source": [
        "print(\"training set images: \", train_embeddings.shape[0])\n",
        "print(\"test set images: \", test_embeddings.shape[0])\n",
        "print('embedding size: ', test_embeddings.shape[1])"
      ],
      "execution_count": 5,
      "outputs": [
        {
          "output_type": "stream",
          "text": [
            "training set images:  112571\n",
            "test set images:  37428\n",
            "embedding size:  512\n"
          ],
          "name": "stdout"
        }
      ]
    },
    {
      "cell_type": "code",
      "metadata": {
        "id": "kpBypVauMtyM",
        "outputId": "214d874f-1a83-403e-e342-59c1f961cd60",
        "colab": {
          "base_uri": "https://localhost:8080/",
          "height": 51
        }
      },
      "source": [
        "# label == 1 means face with mask\n",
        "print('training images with mask: ', train_labels[train_labels['label'] == 1].shape[0])\n",
        "print('test images with mask: ', test_labels[test_labels['label'] == 1].shape[0])"
      ],
      "execution_count": 7,
      "outputs": [
        {
          "output_type": "stream",
          "text": [
            "training images with mask:  44403\n",
            "test images with mask:  14942\n"
          ],
          "name": "stdout"
        }
      ]
    },
    {
      "cell_type": "markdown",
      "metadata": {
        "id": "NvbAK7bBNQJA"
      },
      "source": [
        "# Classifier: SVM"
      ]
    },
    {
      "cell_type": "code",
      "metadata": {
        "id": "5lJtREKRNUow"
      },
      "source": [
        "# load junmei's results here\n",
        "\n"
      ],
      "execution_count": null,
      "outputs": []
    },
    {
      "cell_type": "code",
      "metadata": {
        "id": "iy_H3VHnNclF"
      },
      "source": [
        "# use SVM directly here \n",
        "from sklearn.pipeline import make_pipeline\n",
        "from sklearn.preprocessing import StandardScaler\n",
        "from sklearn.svm import SVC\n",
        "from sklearn import metrics\n",
        "\n",
        "X = train_embeddings.values\n",
        "y = train_labels.values\n",
        "X_test = test_embeddings.values\n",
        "y_test = test_labels.values\n",
        "acc = {}\n",
        "train_acc = {}\n",
        "kernels = ['linear', 'poly', 'rbf', 'sigmoid']\n",
        "for i in tqdm(range(len(kernels))):\n",
        "  kernel = kernels[i]\n",
        "  svm = make_pipeline(StandardScaler(), SVC(kernel=kernel))\n",
        "  svm.fit(X, y)\n",
        "  y_hat = svm.predict(X_test)\n",
        "  acc[kernel] = metrics.accuracy_score(y_test, y_hat)\n",
        "  train_acc[kernel] = metrics.accuracy_score(y, svm.predict(X))\n",
        "print(acc)\n",
        "print(train_acc)\n",
        "\n"
      ],
      "execution_count": 8,
      "outputs": []
    },
    {
      "cell_type": "code",
      "metadata": {
        "id": "RiZZP80oRq0F"
      },
      "source": [
        ""
      ],
      "execution_count": null,
      "outputs": []
    },
    {
      "cell_type": "code",
      "metadata": {
        "id": "crZGdn1NgTW2"
      },
      "source": [
        ""
      ],
      "execution_count": null,
      "outputs": []
    },
    {
      "cell_type": "markdown",
      "metadata": {
        "id": "DUeGhuOxNbSU"
      },
      "source": [
        "# Classifier: Logistic Regression"
      ]
    },
    {
      "cell_type": "code",
      "metadata": {
        "id": "SaiNnnKeNhFY",
        "outputId": "d5f71e1e-3bb1-4ed5-af64-0a18d49ce2f1",
        "colab": {
          "base_uri": "https://localhost:8080/",
          "height": 68
        }
      },
      "source": [
        "from sklearn.linear_model import LogisticRegression\n",
        "import sklearn.metrics as metrics\n",
        "\n",
        "X = train_embeddings.values\n",
        "y = train_labels.values\n",
        "X_test = test_embeddings.values\n",
        "y_test = test_labels.values\n",
        "import time\n",
        "start = time.time()\n",
        "logreg = LogisticRegression(random_state=0).fit(X, y)\n",
        "end = time.time()\n",
        "print(end - start)\n",
        "y_hat = logreg.predict(X_test)\n",
        "y_prob = logreg.predict_proba(X_test)\n",
        "acc = logreg.score(X_test, y_test)"
      ],
      "execution_count": 107,
      "outputs": [
        {
          "output_type": "stream",
          "text": [
            "/usr/local/lib/python3.6/dist-packages/sklearn/utils/validation.py:760: DataConversionWarning: A column-vector y was passed when a 1d array was expected. Please change the shape of y to (n_samples, ), for example using ravel().\n",
            "  y = column_or_1d(y, warn=True)\n"
          ],
          "name": "stderr"
        },
        {
          "output_type": "stream",
          "text": [
            "8.754600763320923\n"
          ],
          "name": "stdout"
        }
      ]
    },
    {
      "cell_type": "code",
      "metadata": {
        "id": "pZ5eL0EBQ2kJ",
        "outputId": "7db98acf-20f6-4bc3-935b-a8cf6379bce4",
        "colab": {
          "base_uri": "https://localhost:8080/",
          "height": 51
        }
      },
      "source": [
        "|print('training accuracy: ',logreg.score(X, y))\n",
        "print('test accuracy: ', acc)"
      ],
      "execution_count": 8,
      "outputs": [
        {
          "output_type": "stream",
          "text": [
            "training accuracy:  0.952119107052438\n",
            "test accuracy:  0.9499305332905846\n"
          ],
          "name": "stdout"
        }
      ]
    },
    {
      "cell_type": "code",
      "metadata": {
        "id": "6o_sqsbfQnlJ",
        "outputId": "5822bd3d-343c-47a3-8875-974fbd8274a6",
        "colab": {
          "base_uri": "https://localhost:8080/",
          "height": 295
        }
      },
      "source": [
        "import sklearn.metrics as metrics\n",
        "preds = y_prob[:,1]\n",
        "fpr, tpr, threshold = metrics.roc_curve(y_test, preds)\n",
        "roc_auc = metrics.auc(fpr, tpr)\n",
        "\n",
        "# plot roc curve\n",
        "import matplotlib.pyplot as plt\n",
        "plt.title('Receiver Operating Characteristic')\n",
        "plt.plot(fpr, tpr, 'b', label = 'AUC = %0.2f' % roc_auc)\n",
        "plt.legend(loc = 'lower right')\n",
        "plt.plot([0, 1], [0, 1],'r--')\n",
        "plt.xlim([0, 1])\n",
        "plt.ylim([0, 1])\n",
        "plt.ylabel('True Positive Rate')\n",
        "plt.xlabel('False Positive Rate')\n",
        "plt.show()"
      ],
      "execution_count": 12,
      "outputs": [
        {
          "output_type": "display_data",
          "data": {
            "image/png": "[encoded data removed]",
            "text/plain": [
              "<Figure size 432x288 with 1 Axes>"
            ]
          },
          "metadata": {
            "tags": [],
            "needs_background": "light"
          }
        }
      ]
    },
    {
      "cell_type": "code",
      "metadata": {
        "id": "7iCasuntSgrs",
        "outputId": "d4f127ae-e133-45d3-d6c7-cd2dada1596b",
        "colab": {
          "base_uri": "https://localhost:8080/",
          "height": 80
        }
      },
      "source": [
        "i = np.arange(len(tpr)) # index for df\n",
        "roc = pd.DataFrame({'fpr' : pd.Series(fpr, index=i),'tpr' : pd.Series(tpr, index = i), '1-fpr' : pd.Series(1-fpr, index = i), 'tf' : pd.Series(tpr - (1-fpr), index = i), 'thresholds' : pd.Series(threshold, index = i)})\n",
        "roc.iloc[(roc.tf-0).abs().argsort()[:1]]"
      ],
      "execution_count": 13,
      "outputs": [
        {
          "output_type": "execute_result",
          "data": {
            "text/html": [
              "<div>\n",
              "<style scoped>\n",
              "    .dataframe tbody tr th:only-of-type {\n",
              "        vertical-align: middle;\n",
              "    }\n",
              "\n",
              "    .dataframe tbody tr th {\n",
              "        vertical-align: top;\n",
              "    }\n",
              "\n",
              "    .dataframe thead th {\n",
              "        text-align: right;\n",
              "    }\n",
              "</style>\n",
              "<table border=\"1\" class=\"dataframe\">\n",
              "  <thead>\n",
              "    <tr style=\"text-align: right;\">\n",
              "      <th></th>\n",
              "      <th>fpr</th>\n",
              "      <th>tpr</th>\n",
              "      <th>1-fpr</th>\n",
              "      <th>tf</th>\n",
              "      <th>thresholds</th>\n",
              "    </tr>\n",
              "  </thead>\n",
              "  <tbody>\n",
              "    <tr>\n",
              "      <th>1711</th>\n",
              "      <td>0.050031</td>\n",
              "      <td>0.950007</td>\n",
              "      <td>0.949969</td>\n",
              "      <td>0.000038</td>\n",
              "      <td>0.402755</td>\n",
              "    </tr>\n",
              "  </tbody>\n",
              "</table>\n",
              "</div>"
            ],
            "text/plain": [
              "           fpr       tpr     1-fpr        tf  thresholds\n",
              "1711  0.050031  0.950007  0.949969  0.000038    0.402755"
            ]
          },
          "metadata": {
            "tags": []
          },
          "execution_count": 13
        }
      ]
    },
    {
      "cell_type": "markdown",
      "metadata": {
        "id": "PVohsoM1VKiv"
      },
      "source": [
        "The result is quite balanced. The AUC is 0.99, the best threshold is 0.402755"
      ]
    },
    {
      "cell_type": "markdown",
      "metadata": {
        "id": "asVvOCq9aqDv"
      },
      "source": [
        "## use L1 penalty and balanced class to see if it could help improve the performance"
      ]
    },
    {
      "cell_type": "code",
      "metadata": {
        "id": "nBhBlHIZf4u7",
        "outputId": "ad906205-b9af-48bd-9e27-386168431eb3",
        "colab": {
          "base_uri": "https://localhost:8080/",
          "height": 119
        }
      },
      "source": [
        "# use L1 norm\n",
        "start = time.time()\n",
        "logreg = LogisticRegression(random_state=0, penalty = 'l1', solver= 'saga').fit(X, y)\n",
        "end = time.time()\n",
        "print(end - start)\n",
        "y_hat = logreg.predict(X_test)\n",
        "y_prob = logreg.predict_proba(X_test)\n",
        "acc = logreg.score(X_test, y_test)\n",
        "acc"
      ],
      "execution_count": 108,
      "outputs": [
        {
          "output_type": "stream",
          "text": [
            "/usr/local/lib/python3.6/dist-packages/sklearn/utils/validation.py:760: DataConversionWarning: A column-vector y was passed when a 1d array was expected. Please change the shape of y to (n_samples, ), for example using ravel().\n",
            "  y = column_or_1d(y, warn=True)\n"
          ],
          "name": "stderr"
        },
        {
          "output_type": "stream",
          "text": [
            "98.73533821105957\n"
          ],
          "name": "stdout"
        },
        {
          "output_type": "stream",
          "text": [
            "/usr/local/lib/python3.6/dist-packages/sklearn/linear_model/_sag.py:330: ConvergenceWarning: The max_iter was reached which means the coef_ did not converge\n",
            "  \"the coef_ did not converge\", ConvergenceWarning)\n"
          ],
          "name": "stderr"
        },
        {
          "output_type": "execute_result",
          "data": {
            "text/plain": [
              "0.9510259698621353"
            ]
          },
          "metadata": {
            "tags": []
          },
          "execution_count": 108
        }
      ]
    },
    {
      "cell_type": "code",
      "metadata": {
        "id": "fOcaFluzbenS",
        "outputId": "5ebde9a4-d24f-4fdd-8588-5e4e693fe862",
        "colab": {
          "base_uri": "https://localhost:8080/",
          "height": 34
        }
      },
      "source": [
        "acc_train = logreg.score(X, y)\n",
        "acc_train"
      ],
      "execution_count": 18,
      "outputs": [
        {
          "output_type": "execute_result",
          "data": {
            "text/plain": [
              "0.9532739337840118"
            ]
          },
          "metadata": {
            "tags": []
          },
          "execution_count": 18
        }
      ]
    },
    {
      "cell_type": "code",
      "metadata": {
        "id": "5WD6DVzecHk8",
        "outputId": "1bef1ff1-b8a0-463b-dc27-4443e45a3752",
        "colab": {
          "base_uri": "https://localhost:8080/",
          "height": 68
        }
      },
      "source": [
        "logreg = LogisticRegression(random_state=0, penalty = 'l2', solver= 'saga').fit(X, y)\n",
        "y_hat = logreg.predict(X_test)\n",
        "y_prob = logreg.predict_proba(X_test)\n",
        "acc = logreg.score(X_test, y_test)\n",
        "acc"
      ],
      "execution_count": 15,
      "outputs": [
        {
          "output_type": "stream",
          "text": [
            "/usr/local/lib/python3.6/dist-packages/sklearn/utils/validation.py:760: DataConversionWarning: A column-vector y was passed when a 1d array was expected. Please change the shape of y to (n_samples, ), for example using ravel().\n",
            "  y = column_or_1d(y, warn=True)\n"
          ],
          "name": "stderr"
        },
        {
          "output_type": "execute_result",
          "data": {
            "text/plain": [
              "0.9499572512557444"
            ]
          },
          "metadata": {
            "tags": []
          },
          "execution_count": 15
        }
      ]
    },
    {
      "cell_type": "code",
      "metadata": {
        "id": "g4ry4TxNch-h",
        "outputId": "d79109a6-028c-4e85-aa2a-66d33a4a7b75",
        "colab": {
          "base_uri": "https://localhost:8080/",
          "height": 34
        }
      },
      "source": [
        "acc_train = logreg.score(X, y)\n",
        "acc_train"
      ],
      "execution_count": 16,
      "outputs": [
        {
          "output_type": "execute_result",
          "data": {
            "text/plain": [
              "0.952119107052438"
            ]
          },
          "metadata": {
            "tags": []
          },
          "execution_count": 16
        }
      ]
    },
    {
      "cell_type": "markdown",
      "metadata": {
        "id": "_yAXZStnc0Kp"
      },
      "source": [
        "To compare the performance of l1 and l2 norm under same condition, we also run the model with solver = 'saga' for l2 norm. The accuracy shows that the l1 norm is a little bit better than l2 norm on both training and test set. "
      ]
    },
    {
      "cell_type": "code",
      "metadata": {
        "id": "yiSevTrmxXhy",
        "outputId": "0627922b-459a-49ed-c872-2a4bbef4e84c",
        "colab": {
          "base_uri": "https://localhost:8080/",
          "height": 85
        }
      },
      "source": [
        "# use balanced class weight\n",
        "\n",
        "logreg = LogisticRegression(random_state=0, penalty = 'l2', solver= 'saga', class_weight='balanced').fit(X, y)\n",
        "y_hat = logreg.predict(X_test)\n",
        "y_prob = logreg.predict_proba(X_test)\n",
        "acc = logreg.score(X_test, y_test)\n",
        "print('test acc: ', acc)\n",
        "print('training acc: ', logreg.score(X, y))"
      ],
      "execution_count": 9,
      "outputs": [
        {
          "output_type": "stream",
          "text": [
            "/usr/local/lib/python3.6/dist-packages/sklearn/utils/validation.py:760: DataConversionWarning: A column-vector y was passed when a 1d array was expected. Please change the shape of y to (n_samples, ), for example using ravel().\n",
            "  y = column_or_1d(y, warn=True)\n"
          ],
          "name": "stderr"
        },
        {
          "output_type": "stream",
          "text": [
            "test acc:  0.950010687186064\n",
            "training acc:  0.9512485453624824\n"
          ],
          "name": "stdout"
        }
      ]
    },
    {
      "cell_type": "markdown",
      "metadata": {
        "id": "xIT52h8-yFwn"
      },
      "source": [
        "The best performance model is l1 penalty"
      ]
    },
    {
      "cell_type": "code",
      "metadata": {
        "id": "0ezsMHcQxXnb"
      },
      "source": [
        ""
      ],
      "execution_count": null,
      "outputs": []
    },
    {
      "cell_type": "code",
      "metadata": {
        "id": "6uXn1OPuxXr3"
      },
      "source": [
        ""
      ],
      "execution_count": null,
      "outputs": []
    },
    {
      "cell_type": "markdown",
      "metadata": {
        "id": "cNaA-9YVrIDK"
      },
      "source": [
        "# Classifier: NN"
      ]
    },
    {
      "cell_type": "code",
      "metadata": {
        "id": "mxwMK7wOdJES"
      },
      "source": [
        "# ! pip install tensorflow==1.4\n",
        "import tensorflow as tf\n",
        "\n",
        "# Python optimisation variables\n",
        "learning_rate = 0.05\n",
        "epochs = 100\n",
        "batch_size = 1000\n",
        "\n",
        "# declare the training data placeholders\n",
        "# input x - for 28 x 28 pixels = 784\n",
        "x = tf.placeholder(tf.float32, [None, 512])\n",
        "# now declare the output data placeholder - 2 digits\n",
        "y = tf.placeholder(tf.float32, [None, 2])"
      ],
      "execution_count": 110,
      "outputs": []
    },
    {
      "cell_type": "code",
      "metadata": {
        "id": "mCm4B5_jszd2",
        "outputId": "6c98cd54-05ba-44ea-8298-0f11450c36f1",
        "colab": {
          "base_uri": "https://localhost:8080/",
          "height": 34
        }
      },
      "source": [
        "from sklearn.preprocessing import OneHotEncoder\n",
        "\n",
        "enc = OneHotEncoder(handle_unknown='ignore')\n",
        "enc.fit(y)\n",
        "y_nn = enc.transform(y).toarray()\n",
        "\n",
        "y_nn = np.float32(y_nn)\n",
        "y_nn.dtype\n",
        "\n",
        "X = np.float32(X)\n",
        "X.dtype"
      ],
      "execution_count": 109,
      "outputs": [
        {
          "output_type": "execute_result",
          "data": {
            "text/plain": [
              "dtype('float32')"
            ]
          },
          "metadata": {
            "tags": []
          },
          "execution_count": 109
        }
      ]
    },
    {
      "cell_type": "code",
      "metadata": {
        "id": "rBQOaTwQraPq"
      },
      "source": [
        "# now declare the weights connecting the input to the hidden layer\n",
        "W1 = tf.Variable(tf.random_normal([512, 300], stddev=0.03), name='W1')\n",
        "b1 = tf.Variable(tf.random_normal([300]), name='b1')\n",
        "# and the weights connecting the hidden layer to the output layer\n",
        "W2 = tf.Variable(tf.random_normal([300, 2], stddev=0.03), name='W2')\n",
        "b2 = tf.Variable(tf.random_normal([2]), name='b2')\n",
        "\n",
        "# calculate the output of the hidden layer\n",
        "hidden_out = tf.add(tf.matmul(x, W1), b1)\n",
        "hidden_out = tf.nn.relu(hidden_out)\n",
        "\n",
        "# output layer\n",
        "y_ = tf.nn.softmax(tf.add(tf.matmul(hidden_out, W2), b2))"
      ],
      "execution_count": 111,
      "outputs": []
    },
    {
      "cell_type": "code",
      "metadata": {
        "id": "Tu5Jy5DiraSY"
      },
      "source": [
        "y_clipped = tf.clip_by_value(y_, 1e-10, 0.9999999)\n",
        "cross_entropy = -tf.reduce_mean(tf.reduce_sum(y * tf.log(y_clipped)\n",
        "                         + (1 - y) * tf.log(1 - y_clipped), axis=1))\n",
        "\n",
        "# add an optimiser\n",
        "optimiser = tf.train.GradientDescentOptimizer(learning_rate=learning_rate).minimize(cross_entropy)"
      ],
      "execution_count": 112,
      "outputs": []
    },
    {
      "cell_type": "code",
      "metadata": {
        "id": "1k5gDCPqraWO"
      },
      "source": [
        "# finally setup the initialisation operator\n",
        "init_op = tf.global_variables_initializer()\n",
        "\n",
        "\n",
        "# define an accuracy assessment operation\n",
        "correct_prediction = tf.equal(tf.argmax(y_, 1), tf.argmax(y, 1), name='correct_pred')\n",
        "accuracy = tf.reduce_mean(tf.cast(correct_prediction, tf.float32))"
      ],
      "execution_count": 113,
      "outputs": []
    },
    {
      "cell_type": "code",
      "metadata": {
        "id": "UfhfKb2s88_d"
      },
      "source": [
        "def randomize(x, y):\n",
        "    \"\"\" Randomizes the order of data samples and their corresponding labels\"\"\"\n",
        "    permutation = np.random.permutation(y.shape[0])\n",
        "    shuffled_x = x[permutation, :]\n",
        "    shuffled_y = y[permutation]\n",
        "    return shuffled_x, shuffled_y"
      ],
      "execution_count": 114,
      "outputs": []
    },
    {
      "cell_type": "code",
      "metadata": {
        "id": "7iox3ZbBr24A",
        "outputId": "5928ba92-c6d3-49c4-82de-09d5c79c4cb2",
        "colab": {
          "base_uri": "https://localhost:8080/",
          "height": 221
        }
      },
      "source": [
        "# start the session\n",
        "start = time.time()\n",
        "with tf.Session() as sess:\n",
        "   # initialise the variables\n",
        "   sess.run(init_op)\n",
        "   total_batch = int(X.shape[0] / batch_size)\n",
        "   \n",
        "   for epoch in range(epochs):\n",
        "        X, y_nn = randomize(X, y_nn)\n",
        "        for i in range(total_batch):   \n",
        "            batch_x, batch_y = X[i*batch_size:i*batch_size+batch_size], y_nn[i*batch_size:i*batch_size+batch_size]\n",
        "            sess.run(optimiser, feed_dict={x: batch_x, y: batch_y})\n",
        "        if epoch % 10 == 0:\n",
        "            # Calculate and display the batch loss and accuracy\n",
        "            acc_batch = sess.run(accuracy,feed_dict={x: batch_x, y: batch_y})\n",
        "\n",
        "            print(\"Training Accuracy= %f\" % acc_batch)\n",
        "   end = time.time()\n",
        "   print(end-start)\n",
        "   print(sess.run(accuracy, feed_dict={x: X_test, y:y_nn_test}))"
      ],
      "execution_count": 115,
      "outputs": [
        {
          "output_type": "stream",
          "text": [
            "Training Accuracy= 0.622000\n",
            "Training Accuracy= 0.949000\n",
            "Training Accuracy= 0.952000\n",
            "Training Accuracy= 0.933000\n",
            "Training Accuracy= 0.960000\n",
            "Training Accuracy= 0.950000\n",
            "Training Accuracy= 0.958000\n",
            "Training Accuracy= 0.955000\n",
            "Training Accuracy= 0.961000\n",
            "Training Accuracy= 0.968000\n",
            "639.0544276237488\n",
            "0.95572835\n"
          ],
          "name": "stdout"
        }
      ]
    },
    {
      "cell_type": "code",
      "metadata": {
        "id": "1YgfYmBT6SoE"
      },
      "source": [
        "acc_test = {'Logistic regression(L2)': 0.950, \n",
        "            'Logistic regression(L1)': 0.951,\n",
        "            'SVM linear':0.951,\n",
        "  \n",
        "            'SVM rbf':  0.943,\n",
        "            'SVM sigmoid': 0.940 ,\n",
        "            'NN': 0.957}\n",
        "\n",
        "acc_train = {'Logistic regression(L2)': 0.952, \n",
        "            'Logistic regression(L1)': 0.953,\n",
        "            'SVM linear':0.954,\n",
        "           \n",
        "            'SVM rbf':  0.945,\n",
        "            'SVM sigmoid': 0.940 ,\n",
        "            'NN': 0.969}\n"
      ],
      "execution_count": 5,
      "outputs": []
    },
    {
      "cell_type": "code",
      "metadata": {
        "id": "XF1zVlRjh2FE",
        "outputId": "07d0dbd7-4651-4cf3-8819-a1244ae4517b",
        "colab": {
          "base_uri": "https://localhost:8080/",
          "height": 458
        }
      },
      "source": [
        "plt.figure(figsize= (12,7))\n",
        "\n",
        "lists = sorted(acc_test.items()) # sorted by key, return a list of tuples\n",
        "lists2 = sorted(acc_train.items())\n",
        "x1, y1 = zip(*lists) # unpack a list of pairs into two tuples\n",
        "x2, y2 = zip(*lists2)\n",
        "\n",
        "plt.plot(x1, y1, label = \"test accuracy\")\n",
        "\n",
        "plt.plot(x2, y2, label = \"train accuracy\")\n",
        "plt.xlabel('Models')\n",
        "# Set the y axis label of the current axis.\n",
        "plt.ylabel('Accuracy')\n",
        "# Set a title of the current axes.\n",
        "plt.title('test/train accuracy for different models ')\n",
        "\n",
        "plt.gca().set_yticklabels(['{:.1f}%'.format(x*100) for x in plt.gca().get_yticks()]) \n",
        "# show a legend on the plot\n",
        "plt.legend()\n",
        "# Display a figure.\n",
        "plt.show()\n"
      ],
      "execution_count": 9,
      "outputs": [
        {
          "output_type": "display_data",
          "data": {
            "image/png": "[encoded data removed]",
            "text/plain": [
              "<Figure size 864x504 with 1 Axes>"
            ]
          },
          "metadata": {
            "tags": [],
            "needs_background": "light"
          }
        }
      ]
    },
    {
      "cell_type": "markdown",
      "metadata": {
        "id": "Md_fu3fYGimf"
      },
      "source": [
        "Generally, all models give a quite good accuracy on this task. When we take the training time into consider, logistic regression is the fastest one with relatively good results. The NN performs best and training time is about couple of minutes which is acceptable."
      ]
    },
    {
      "cell_type": "markdown",
      "metadata": {
        "id": "N2bso9jJHPbw"
      },
      "source": [
        "# Next Step\n",
        "## what to improve\n",
        "* wrong classification analysis (what kind of images are classified wrong)\n",
        "* bias or variance\n",
        "## how to improve\n",
        "* more data\n",
        "* remove wrong data\n",
        "* more complex model\n",
        "* regularization\n",
        "\n",
        "\n"
      ]
    },
    {
      "cell_type": "code",
      "metadata": {
        "id": "JHMvhJ8rHNqM"
      },
      "source": [
        ""
      ],
      "execution_count": null,
      "outputs": []
    }
  ]
}