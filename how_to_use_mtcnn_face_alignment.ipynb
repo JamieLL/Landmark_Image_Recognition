{
  "nbformat": 4,
  "nbformat_minor": 0,
  "metadata": {
    "colab": {
      "name": "how_to_use_mtcnn_face_alignment.ipynb",
      "provenance": [],
      "collapsed_sections": [],
      "toc_visible": true,
      "authorship_tag": "ABX9TyPT+bKO9Qe1LuWkQ1mUoTGQ",
      "include_colab_link": true
    },
    "kernelspec": {
      "display_name": "Python 3",
      "name": "python3"
    }
  },
  "cells": [
    {
      "cell_type": "markdown",
      "metadata": {
        "id": "view-in-github",
        "colab_type": "text"
      },
      "source": [
        "<a href=\"https://colab.research.google.com/github/Tonyz4516/detector-for-masked-faces/blob/master/how_to_use_mtcnn_face_alignment.ipynb\" target=\"_parent\"><img src=\"https://colab.research.google.com/assets/colab-badge.svg\" alt=\"Open In Colab\"/></a>"
      ]
    },
    {
      "cell_type": "markdown",
      "metadata": {
        "id": "zgIs3aklHjYH"
      },
      "source": [
        "### Step 1\n",
        "\n",
        "Follow the instruction to install CUDA and supporting softwares on the Windows machine, see [this site](https://towardsdatascience.com/installing-tensorflow-with-cuda-cudnn-and-gpu-support-on-windows-10-60693e46e781) for instruction\n",
        "\n",
        "Make sure these are installed:\n",
        "- install visual studio 2017 community version\n",
        "- install [CUDA 9.0](https://developer.nvidia.com/cuda-90-download-archive?target_os=Windows&target_arch=x86_64&target_version=10&target_type=exenetwork)\n",
        "- install [CuDNN 7.0.5](https://developer.nvidia.com/rdp/cudnn-archive)"
      ]
    },
    {
      "cell_type": "markdown",
      "metadata": {
        "id": "EpG1RpTWIJts"
      },
      "source": [
        "### Step 2\n",
        "\n",
        "Open anaconda prompt, and run following commands line by line:\n",
        "\n",
        "- conda create --name py36 python=3.6 anaconda\n",
        "- conda activate py36\n",
        "- pip install tensorflow-gpu==1.7.0\n",
        "- pip install numpy==1.16.2\n",
        "- pip install SciPy==1.0.1\n",
        "- pip install ipywidgets\n",
        "- jupyter nbextension enable --py widgetsnbextension\n",
        "- pip install opencv-python"
      ]
    },
    {
      "cell_type": "markdown",
      "metadata": {
        "id": "3HQCKdjsIgvi"
      },
      "source": [
        "### Step 3\n",
        "run this command in anaconda prompt:\n",
        "\n",
        "python C:\\Users\\Shadow\\Documents\\GitHub\\facenet\\src\\align\\align_dataset_mtcnn.py C:\\Users\\Shadow\\Documents\\datasets\\lfw C:\\Users\\Shadow\\Documents\\datasets\\aligned_lfw --image_size 160 --margin 32 --random_order --gpu_memory_fraction 0.25\n",
        "\n",
        "Replace the three directories in the command with:\n",
        "1. Your align_dataset_mtcnn.py location\n",
        "2. Your original data location\n",
        "3. Target location for processed images"
      ]
    }
  ]
}