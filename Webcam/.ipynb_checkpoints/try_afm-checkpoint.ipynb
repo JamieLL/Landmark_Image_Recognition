{
 "cells": [
  {
   "cell_type": "code",
   "execution_count": 1,
   "metadata": {},
   "outputs": [],
   "source": [
    "import json\n",
    "import pandas as pd\n",
    "import numpy as np\n",
    "from sklearn.preprocessing import LabelEncoder"
   ]
  },
  {
   "cell_type": "code",
   "execution_count": 2,
   "metadata": {},
   "outputs": [],
   "source": [
    "features_file = open('features_names.txt','w')\n",
    "feature_name_list = []\n",
    "for index in range(2048):\n",
    "    feature_name = 'tp2048P|{}'.format(index)\n",
    "    features_file.write('{}\\n'.format(feature_name))\n",
    "    feature_name_list.append(feature_name)\n",
    "for index in range(1024):\n",
    "    feature_name = 'tp1024P|{}'.format(index)\n",
    "    features_file.write('{}\\n'.format(feature_name))\n",
    "    feature_name_list.append(feature_name)\n",
    "for index in range(256):\n",
    "    feature_name = 'tp256P|{}'.format(index)\n",
    "    features_file.write('{}\\n'.format(feature_name))\n",
    "    feature_name_list.append(feature_name)\n",
    "for index in range(64):\n",
    "    feature_name = 'tp64P|{}'.format(index)\n",
    "    features_file.write('{}\\n'.format(feature_name))\n",
    "    feature_name_list.append(feature_name)"
   ]
  },
  {
   "cell_type": "code",
   "execution_count": 2,
   "metadata": {},
   "outputs": [
    {
     "name": "stdout",
     "output_type": "stream",
     "text": [
      "0\n",
      "{\"evtName\":\"impr\",\"contextProfile\":{\"hashedOpId\":\"956d094fd82514c8\",\"advId\":\"d36c5ba5-5776-40be-b45a-0e718c0b812e\",\"hImei\":\"\",\"androidId\":\"\",\"ch\":\"\",\"country\":\"GH\",\"avbSvs\":[\"GOOGLE_PLAY\",\"FACEBOOK\"],\"langCode\":\"en\",\"appPkgName\":\"com.opera.mini.native\",\"appVer\":\"33.0.2254.125672\",\"devType\":\"PHONE\",\"osType\":\"ANDROID\",\"osVer\":\"5.0\",\"devVendor\":\"samsung\",\"devModel\":\"SM-G900F\",\"screenW\":1080,\"screenH\":1920,\"ip\":\"41.215.173.23\",\"connType\":\"CELLULAR_2G\",\"subdivision\":\"Greater Accra Region\",\"city\":\"Accra\",\"seId\":\"00000d625c6fb0c4e80\",\"sid\":\"s258223597568\",\"adCount\":1,\"flPInLi\":0,\"abtestTxt\":\"{\\\"call_prophet_flag\\\":1,\\\"top_pctr_without_weight_rule\\\":1,\\\"use_prophet_score_flag\\\":1}\",\"experiments\":\"{\\\"3264\\\":\\\"8729\\\",\\\"3393\\\":\\\"9042\\\"}\",\"rawCountry\":\"GH\"},\"userProfile\":{\"opId\":\"bd311e4c258146514b153a491b907dd1bbfbe2713db6e14c432a8084729d2d4a\",\"newsDevId\":\"3363ccaffe1eee44e2eb5ba617d2611ba2ea8cab\",\"born\":0,\"gender\":0,\"city\":\"\",\"installApps\":null,\"tags\":{\"cbt_betting_betpawa\":\"1\",\"cbt_betting_betway\":\"1\",\"cbt_total_betting\":\"1\",\"nct_Football\":\"1\",\"nct_Music\":\"1\"},\"userNewsProfile\":{\"catP\":{\"Evergreen_Recreation\":1.263,\"News_Entertainment\":10.609,\"News_Lifestyle\":1.282,\"News_Sports\":8.38,\"Others\":9.99},\"sCatP\":{\"News_Entertainment.Others\":10.609,\"News_Sports.Soccer\":7.626,\"News_Sports.Wrestling\":1.191,\"Quora.Cristiano_Ronaldo_(football_player)\":0.395,\"Quora.Real_Madrid_C.F.\":0.868},\"kwP\":{\"cristiano ronaldo\":4.395,\"kwesi\":3.268,\"sarkodi\":6.187,\"shatta wale\":4.064,\"stonebwoi\":3.084},\"dP\":{\"akpraise.com.ng\":1,\"allfootballapp.com\":0.744,\"calciomercato.com\":2.379,\"dailyactive.info\":0.437,\"dailyadvent.com\":1.116,\"dailypost.ng\":0.403,\"deedeesblog.com\":0.641,\"eonlinegh.com\":1.198,\"foxsportsasia.com\":0.785,\"futaa.com\":0.709,\"ghafla.com\":0.709,\"ghanacelebrities.com\":1.425,\"ghanagrio.com\":0.868,\"ghananews360.com\":0.557,\"ghanavibes.com\":0.834,\"ghbase.com\":0.739,\"ghentertainers.com\":0.834,\"gqbuzz.com\":4.124,\"naijaolofofo.com\":0.455,\"naijweb.ng\":1.798,\"notjustok.com\":2,\"primenewsghana.com\":0.834,\"pulse.com.gh\":0.535,\"quora.com\":1.263,\"sportbible.com\":0.403,\"sportskeeda.com\":0.661,\"theindependentghana.com\":0.437,\"tooxclusive.com\":2.441,\"wetinhappen.com.ng\":0.483,\"wikihow.com\":0.641},\"tp64P\":{\"21\":17.6189,\"36\":0.8681,\"44\":1.1906,\"49\":1.2823,\"57\":7.043},\"tp256P\":{\"129\":5.8064,\"146\":0.8337,\"186\":5.0939,\"196\":0.7738,\"205\":0.8058,\"209\":0.7093,\"225\":11.8839,\"3\":2.0588,\"42\":0.6412,\"85\":1.1835},\"tp1024P\":{\"251\":3.2323,\"268\":2.0608,\"369\":2.1773,\"496\":1.1978,\"555\":1.4969,\"597\":10.362,\"634\":1.1906,\"647\":0.8681,\"708\":1,\"937\":3.8773},\"tp2048P\":{\"1230\":1.1906,\"1415\":1.7093,\"1450\":3.0797,\"1584\":7.3199,\"1914\":1.1978,\"194\":3.0232,\"281\":2.4477,\"449\":0.8681,\"498\":1,\"698\":5.4684},\"tKwP\":{\"abena\":1.501,\"achiev\":0.781,\"ceeza\":1.667,\"champion leagu\":1.075,\"cristiano ronaldo\":3.418,\"davido\":2.9,\"download music\":1.367,\"father\":0.8,\"final draw\":0.765,\"ft\":1.407,\"ghanaian born\":0.75,\"juve\":1.754,\"kofi kingston\":0.834,\"kwaw kese\":0.754,\"kwesi\":2.338,\"list winner\":1.058,\"mbapp\":0.785,\"medik\":2.8,\"messi\":1.098,\"music award\":1.058,\"pope\":0.84,\"ronaldo\":1.726,\"santi\":0.8,\"sarkodi\":4.485,\"shatta wale\":3.728,\"shaydee\":1.334,\"skinni\":1.209,\"stonebwoi\":1.499,\"strongman\":1.343,\"zylofon\":0.834},\"sKwP\":{\"afrobeat\":1,\"anticipat\":1.482,\"atletico madrid\":1.993,\"champion leagu\":3.573,\"cristiano ronaldo\":6.845,\"download music\":2.991,\"father\":1.802,\"ft\":1.234,\"ghanaian\":1.397,\"juve\":1.054,\"juventu\":1.06,\"kwesi arthur\":2.376,\"lionel messi\":1.409,\"medik\":1.5,\"music award\":1.113,\"music industri\":0.9,\"pope skinni\":1.142,\"rapper\":1.722,\"real madrid\":2.656,\"releas\":1.144,\"santi\":1.8,\"sarkodi\":2.292,\"shatta wale\":5.011,\"social media\":2.178,\"south africa\":0.942,\"stonebwoi\":2.523,\"strongman\":0.907,\"uefa\":1.547,\"wikipedia\":0.972,\"world champion\":1.445},\"day\":\"20190429\",\"extra_info\":\"{\\\"reg_date\\\":\\\"20180419\\\",\\\"country\\\":\\\"gh\\\",\\\"gender\\\":0.9849012664000466,\\\"tz\\\":\\\"0\\\",\\\"incns\\\":1,\\\"ad_cat\\\":{\\\"Sports_Gaming\\\":8.7,\\\"Entertainment\\\":21.390299999999996},\\\"lang\\\":\\\"en\\\",\\\"ad_kw\\\":{\\\"song\\\":14.716500000000002,\\\"goalkeeper\\\":1.8474,\\\"dating someone\\\":0.9134,\\\"download music\\\":2.9259,\\\"football\\\":5.8208,\\\"radio\\\":0.944,\\\"music\\\":19.4028,\\\"music videos\\\":0.8887,\\\"football match\\\":0.9546,\\\"dating\\\":0.9043,\\\"musically\\\":0.8802,\\\"amg\\\":1.8914,\\\"to date\\\":0.9227,\\\"music video\\\":4.613,\\\"champions league\\\":8.690299999999999,\\\"popular music\\\":0.8956},\\\"ad_scat\\\":{\\\"Music\\\":20.467599999999997,\\\"Dating\\\":0.9227,\\\"Football\\\":8.7}}\"},\"userAdProfile\":{\"aTKwP\":null,\"aSKwP\":null,\"aDKwP\":null,\"aSTKwP\":null,\"aSSKwP\":null,\"aSDKwP\":null,\"aCTpP\":null,\"aTp64P\":null,\"aTp256P\":null,\"aTp1024P\":null,\"aTp2048P\":null,\"aCatP\":null},\"targetP\":null},\"adProfile\":{\"aid\":\"a656479298688\",\"cat\":\"CulturalEntertainment_News\",\"minIst\":10000000,\"inAppP\":false,\"hasAd\":true,\"rTs\":1541548800,\"uTs\":1556538328,\"curVer\":\"6.1.2254.137882\",\"reqAndroidV\":\"Varies\",\"cntR\":\"PEGI 3\",\"rating\":4.438523,\"ratingN\":139117,\"reviewN\":48225,\"starRs\":[0,7232,2906,11383,17699,99897],\"smlApps\":[\"com.hatsune.eagleee\",\"com.opera.mini.native\",\"com.opera.mini.native.beta\",\"com.transsion.phoenix\",\"com.naij.android\"],\"appPackage\":\"com.opera.app.news\",\"implicitTags\":null,\"priceInLi\":600,\"chargeMode\":3,\"cTopics\":null},\"mProfile\":{\"mid\":\"m678177362048\",\"country\":\"GH\",\"langCode\":\"en\",\"uTs\":1556446229696,\"tKw\":{\"-\":1,\"and\":1,\"news\":1,\"opera\":1,\"trending\":1,\"videos\":1},\"sKw\":null,\"dKw\":null,\"sTKw\":{\"-\":1,\"and\":1,\"news\":1,\"opera\":1,\"trending\":1,\"videos\":1},\"sSKw\":null,\"sDKw\":null,\"tp64\":null,\"tp256\":null,\"tp1024\":null,\"tp2048\":null,\"title\":\"opera news - trending news and videos\",\"description\":\"opera news is a completely personalised news app that lets you follow trending topics, share and vie\",\"ctaButtonText\":\"\",\"ctaButtonVisible\":false,\"extra_info\":\"\"},\"trainStatProfile\":{\"mStatProfile\":{\"mid\":null,\"mid_X_sid\":null,\"user_X_mid\":{\"st\":16,\"sk\":\"956d094fd82514c8_X_m678177362048\",\"rI\":3,\"rC\":0,\"hI\":3,\"hC\":0}},\"aStatProfile\":{\"aid\":null,\"aid_X_sid\":null,\"cat\":null,\"user_X_aid\":{\"st\":15,\"sk\":\"956d094fd82514c8_X_a656479298688\",\"rI\":0,\"rC\":0,\"hI\":5,\"hC\":0}},\"slotStatProfile\":{\"sid\":{\"st\":3,\"sk\":\"s258223597568\",\"rI\":14641720,\"rC\":165178,\"hI\":62147514,\"hC\":599304}}},\"userRecentClicks\":null,\"tsMs\":1556668800000,\"pctr\":0.007028794381767511}\n",
      "\n"
     ]
    }
   ],
   "source": [
    "OpId_set = set()\n",
    "feature_dict = {}\n",
    "ori_pca_feature  = []\n",
    "for index,line in enumerate(open('part-00000-5f209187-19e6-4ce1-95d6-b895dbcf396d.txt')):\n",
    "    if index%10000==0: \n",
    "        print(index)\n",
    "        print(line)\n",
    "        break\n",
    "    if index == 50000:\n",
    "        break\n",
    "    try:\n",
    "        term_json = json.loads(line)\n",
    "        evtName = term_json.get('evtName')\n",
    "        userProfile = term_json.get('userProfile')\n",
    "        \n",
    "        OpId = userProfile.get('opId')\n",
    "        \n",
    "        ## 过滤机制\n",
    "        if OpId in OpId_set: continue\n",
    "        OpId_set.add(OpId)\n",
    "        \n",
    "        contextProfile = term_json.get('contextProfile')\n",
    "        userNewsProfile = userProfile.get('userNewsProfile')\n",
    "        if userNewsProfile:\n",
    "            extra_info = json.loads(userNewsProfile.get('extra_info').encode('utf-8'))\n",
    "\n",
    "        OpId_dict = feature_dict.setdefault(OpId,{})\n",
    "        \n",
    "        ## 添加设备相关特征\n",
    "        OpId_dict['OpId'] = OpId\n",
    "        OpId_dict['avbSvs'] = contextProfile.get('avbSvs')\n",
    "        OpId_dict['devType'] = contextProfile.get('devType')\n",
    "        OpId_dict['osType'] = contextProfile.get('osType')\n",
    "        OpId_dict['osVer'] = contextProfile.get('osVer')\n",
    "        OpId_dict['devVendor'] = contextProfile.get('devVendor')\n",
    "        OpId_dict['devModel'] = contextProfile.get('devModel')\n",
    "        OpId_dict['screenW'] = contextProfile.get('screenW')\n",
    "        OpId_dict['screenH'] = contextProfile.get('screenH')\n",
    "        OpId_dict['connType'] = contextProfile.get('connType')\n",
    "        \n",
    "        ## 添加label\n",
    "        OpId_dict['label'] = evtName\n",
    "        \n",
    "        ## 添加'tp2048P','tp1024P','tp256P','tp64P'类特征\n",
    "        for feature_name in feature_name_list:\n",
    "            split_term = feature_name.split('|')\n",
    "            key = split_term[0]\n",
    "            sub_key = split_term[1]\n",
    "            if userNewsProfile:\n",
    "                if userNewsProfile.get(key) and userNewsProfile[key].get(sub_key):\n",
    "                    feature_value = userNewsProfile[key][sub_key]\n",
    "                    OpId_dict[feature_name] = feature_value\n",
    "                    OpId_dict['if_'+feature_name] = 1\n",
    "                else:\n",
    "                    OpId_dict[feature_name] = 0\n",
    "                    OpId_dict['if_'+feature_name] = 0\n",
    "    except ValueError:\n",
    "        continue"
   ]
  },
  {
   "cell_type": "code",
   "execution_count": null,
   "metadata": {},
   "outputs": [],
   "source": [
    "ALL_Data = pd.DataFrame(feature_dict).reset_index(drop=True)"
   ]
  },
  {
   "cell_type": "code",
   "execution_count": null,
   "metadata": {},
   "outputs": [],
   "source": [
    "print('get DataFrame Finished!')\n",
    "del feature_dict\n",
    "ALL_Data.shape"
   ]
  },
  {
   "cell_type": "code",
   "execution_count": null,
   "metadata": {},
   "outputs": [],
   "source": [
    "ALL_Data.head()"
   ]
  },
  {
   "cell_type": "code",
   "execution_count": null,
   "metadata": {},
   "outputs": [],
   "source": [
    "ALL_Data.to_csv('ALL_Data.csv',index=False)"
   ]
  },
  {
   "cell_type": "code",
   "execution_count": 27,
   "metadata": {},
   "outputs": [
    {
     "name": "stdout",
     "output_type": "stream",
     "text": [
      "Wash dev data Finished!!\n",
      "Add dev price Finished!!\n"
     ]
    }
   ],
   "source": [
    "## 清洗设备数据\n",
    "ALL_Data[['connType','devModel','devType','devVendor','osType']] = ALL_Data[['connType','devModel','devType','devVendor','osType']].apply(\n",
    "    lambda x : x.str.lower())\n",
    "\n",
    "devVendor_map = {'infinix':'infinix',\n",
    "                 'infinix mobility limited':'infinix',\n",
    "                  'itel mobile limited':'itel',\n",
    "                  'itel':'itel',\n",
    "                  'tecno mobile limited':'tecno',\n",
    "                  'tecno':'tecno',\n",
    "                 'x-tigi_vision 6':'x-tigi',\n",
    "                 'x-tigi_v1':'x-tigi',\n",
    "                 'x-tigi_s1553':'x-tigi',\n",
    "                 'x-tigi_j110':'x-tigi',\n",
    "                 'x-tigi_g530':'x-tigi',\n",
    "                 'x-tigi_a4':'x-tigi',\n",
    "                 'x-tigi':'x-tigi',\n",
    "                 'x_tigi':'x-tigi',\n",
    "                 'hmd global oy':'hmd',\n",
    "                 'hmd global':'hmd'\n",
    "                 }\n",
    "ALL_Data['devVendor'] = ALL_Data['devVendor'].replace(devVendor_map)\n",
    "print('Wash dev data Finished!!')\n",
    "\n",
    "## 添加设备价格数据\n",
    "dev_price = pd.read_csv('device_price.txt',sep = '\\t')\n",
    "ALL_Data = pd.merge(ALL_Data,dev_price[['mobile','price']],left_on='devModel',right_on='mobile',how='left')\n",
    "print('Add dev price Finished!!')"
   ]
  },
  {
   "cell_type": "code",
   "execution_count": 31,
   "metadata": {},
   "outputs": [],
   "source": [
    "ori_pca_feature_list = feature_name_list+['if_'+i for i in feature_name_list]\n",
    "except_pca_feature = [i for i in list(ALL_Data.columns) if i.startswith('if_') == False and i.startswith('tp') == False]\n",
    "PCA_Data = np.array(ALL_Data.drop(columns=except_pca_feature))\n",
    "pca = np.loadtxt('pca.txt', dtype='float')\n",
    "pca_Data = np.dot(PCA_Data, pca)\n",
    "tp_pca_feature = ['tp_pca_'+str(i) for i in  range(10)]\n",
    "pca_data = pd.DataFrame(pca_Data,columns=tp_pca_feature)"
   ]
  },
  {
   "cell_type": "code",
   "execution_count": 32,
   "metadata": {},
   "outputs": [],
   "source": [
    "## 列筛选以及合并\n",
    "ALL_Data[tp_pca_feature] = pca_data\n",
    "\n",
    "dev_feature = ['connType','devModel','devType','devVendor','osType','osVer','screenH','screenW'] \n",
    "tp_pca_feature = ['tp_pca_'+str(i) for i in  range(10)]\n",
    "label_feature = ['label']\n",
    "Data = ALL_Data[['OpId']+dev_feature+['price']+tp_pca_feature+label_feature]"
   ]
  },
  {
   "cell_type": "code",
   "execution_count": 34,
   "metadata": {},
   "outputs": [
    {
     "name": "stderr",
     "output_type": "stream",
     "text": [
      "/Users/jamie/anaconda3/lib/python3.7/site-packages/ipykernel_launcher.py:9: SettingWithCopyWarning: \n",
      "A value is trying to be set on a copy of a slice from a DataFrame.\n",
      "Try using .loc[row_indexer,col_indexer] = value instead\n",
      "\n",
      "See the caveats in the documentation: http://pandas.pydata.org/pandas-docs/stable/indexing.html#indexing-view-versus-copy\n",
      "  if __name__ == '__main__':\n"
     ]
    },
    {
     "name": "stdout",
     "output_type": "stream",
     "text": [
      "connType finished!\n",
      "devModel finished!\n",
      "devType finished!\n",
      "devVendor finished!\n",
      "osType finished!\n",
      "osVer finished!\n",
      "screenH finished!\n",
      "screenW finished!\n"
     ]
    }
   ],
   "source": [
    "## 添加交叉特征\n",
    "first_feature =  ['connType','devModel','devType','devVendor','osType','osVer','screenH','screenW']\n",
    "second_feature = ['connType','devModel','devType','devVendor','osType','osVer','screenH','screenW']\n",
    "cross_feature = []\n",
    "for feat_1 in first_feature:\n",
    "    for feat_2 in second_feature:\n",
    "        col_name = \"cross_\" + feat_1 + \"_and_\" + feat_2\n",
    "        cross_feature.append(col_name)\n",
    "        Data[col_name] = Data[feat_1].astype(str).values + '_' + Data[feat_2].astype(str).values\n",
    "    print('{} finished!'.format(feat_1))"
   ]
  },
  {
   "cell_type": "code",
   "execution_count": 38,
   "metadata": {},
   "outputs": [],
   "source": [
    "LabelEncoder_feature=dev_feature+cross_feature\n",
    "for feature_name in LabelEncoder_feature:\n",
    "    le = LabelEncoder()\n",
    "    le.fit_transform(Data[feature_name])"
   ]
  },
  {
   "cell_type": "code",
   "execution_count": null,
   "metadata": {},
   "outputs": [],
   "source": [
    "import pandas as pd\n",
    "from sklearn.metrics import log_loss, roc_auc_score\n",
    "from sklearn.model_selection import train_test_split\n",
    "from sklearn.preprocessing import LabelEncoder, MinMaxScaler\n",
    "\n",
    "from deepctr.models import DeepFM\n",
    "from deepctr.utils import SingleFeat\n",
    "\n",
    "if __name__ == \"__main__\":\n",
    "    data = pd.read_csv('ALL_Data.csv',header=True)\n",
    "\n",
    "    sparse_features = ['C' + str(i) for i in range(1, 27)]\n",
    "    dense_features = ['I' + str(i) for i in range(1, 14)]\n",
    "\n",
    "    data[sparse_features] = data[sparse_features].fillna('-1', )\n",
    "    data[dense_features] = data[dense_features].fillna(0, )\n",
    "    target = ['label']\n",
    "\n",
    "    # 1.Label Encoding for sparse features,and do simple Transformation for dense features\n",
    "    for feat in sparse_features:\n",
    "        lbe = LabelEncoder()\n",
    "        data[feat] = lbe.fit_transform(data[feat])\n",
    "    mms = MinMaxScaler(feature_range=(0, 1))\n",
    "    data[dense_features] = mms.fit_transform(data[dense_features])\n",
    "\n",
    "    # 2.count #unique features for each sparse field,and record dense feature field name\n",
    "\n",
    "    sparse_feature_list = [SingleFeat(feat, data[feat].nunique())\n",
    "                           for feat in sparse_features]\n",
    "    dense_feature_list = [SingleFeat(feat, 0,)\n",
    "                          for feat in dense_features]\n",
    "\n",
    "    # 3.generate input data for model\n",
    "\n",
    "    train, test = train_test_split(data, test_size=0.2)\n",
    "    train_model_input = [train[feat.name].values for feat in sparse_feature_list] + \\\n",
    "                        [train[feat.name].values for feat in dense_feature_list]\n",
    "    test_model_input = [test[feat.name].values for feat in sparse_feature_list] + \\\n",
    "                       [test[feat.name].values for feat in dense_feature_list]\n",
    "\n",
    "    # 4.Define Model,train,predict and evaluate\n",
    "    model = DeepFM({\"sparse\": sparse_feature_list,\n",
    "                    \"dense\": dense_feature_list}, task='binary')\n",
    "    model.compile(\"adam\", \"binary_crossentropy\",\n",
    "                  metrics=['binary_crossentropy'], )\n",
    "\n",
    "    history = model.fit(train_model_input, train[target].values,\n",
    "                        batch_size=256, epochs=10, verbose=2, validation_split=0.2, )\n",
    "    pred_ans = model.predict(test_model_input, batch_size=256)\n",
    "    print(\"test LogLoss\", round(log_loss(test[target].values, pred_ans), 4))\n",
    "    print(\"test AUC\", round(roc_auc_score(test[target].values, pred_ans), 4))"
   ]
  }
 ],
 "metadata": {
  "kernelspec": {
   "display_name": "Python 3",
   "language": "python",
   "name": "python3"
  },
  "language_info": {
   "codemirror_mode": {
    "name": "ipython",
    "version": 3
   },
   "file_extension": ".py",
   "mimetype": "text/x-python",
   "name": "python",
   "nbconvert_exporter": "python",
   "pygments_lexer": "ipython3",
   "version": "3.7.3"
  }
 },
 "nbformat": 4,
 "nbformat_minor": 2
}
