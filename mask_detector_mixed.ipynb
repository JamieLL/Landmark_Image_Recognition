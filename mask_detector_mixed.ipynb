{
  "nbformat": 4,
  "nbformat_minor": 0,
  "metadata": {
    "kernelspec": {
      "display_name": "Python 3",
      "language": "python",
      "name": "python3"
    },
    "language_info": {
      "codemirror_mode": {
        "name": "ipython",
        "version": 3
      },
      "file_extension": ".py",
      "mimetype": "text/x-python",
      "name": "python",
      "nbconvert_exporter": "python",
      "pygments_lexer": "ipython3",
      "version": "3.7.3"
    },
    "colab": {
      "name": "SVM_missclassification_analysis_dataclean.ipynb",
      "provenance": [],
      "include_colab_link": true
    }
  },
  "cells": [
    {
      "cell_type": "markdown",
      "metadata": {
        "id": "view-in-github",
        "colab_type": "text"
      },
      "source": [
        "<a href=\"https://colab.research.google.com/github/Tonyz4516/detector-for-masked-faces/blob/master/mask_detector_mixed.ipynb\" target=\"_parent\"><img src=\"https://colab.research.google.com/assets/colab-badge.svg\" alt=\"Open In Colab\"/></a>"
      ]
    },
    {
      "cell_type": "code",
      "metadata": {
        "id": "APBl-_IR43YH"
      },
      "source": [
        "import os \n",
        "from tqdm import tqdm\n",
        "import pandas as pd\n",
        "import numpy as np\n",
        "import matplotlib.pyplot as plt\n",
        "import cv2 as cv\n",
        "from PIL import Image"
      ],
      "execution_count": null,
      "outputs": []
    },
    {
      "cell_type": "code",
      "metadata": {
        "id": "7LyHxCGA43YK"
      },
      "source": [
        "train_embeddings = pd.read_csv(\"data/embarray_train.txt\", sep=\" \", header=None)\n",
        "test_embeddings = pd.read_csv(\"data/embarray_test.txt\", sep=\" \", header=None)\n",
        "train_labels = pd.read_csv(\"data/labels_train.txt\", sep=\" \", header=None)\n",
        "test_labels = pd.read_csv(\"data/labels_test.txt\", sep=\" \", header= None)\n",
        "train_labels.columns = [\"label\"]\n",
        "test_labels.columns = [\"label\"]"
      ],
      "execution_count": null,
      "outputs": []
    },
    {
      "cell_type": "code",
      "metadata": {
        "id": "Fhz4bAAU43YN",
        "outputId": "fd93f764-3ab1-43aa-f46f-4d554d607358"
      },
      "source": [
        "# use SVM directly here \n",
        "from sklearn.pipeline import make_pipeline\n",
        "from sklearn.preprocessing import StandardScaler\n",
        "from sklearn.svm import SVC\n",
        "from sklearn import metrics\n",
        "\n",
        "X = train_embeddings.values\n",
        "y = train_labels.values\n",
        "X_test = test_embeddings.values\n",
        "y_test = test_labels.values\n",
        "acc = {}\n",
        "train_acc = {}\n",
        "kernels = ['linear', 'poly', 'rbf', 'sigmoid']\n",
        "for i in tqdm(range(len(kernels))):\n",
        "    kernel = kernels[i]\n",
        "    svm = SVC(random_state = 0, kernel=kernel)\n",
        "    svm.fit(X, y)\n",
        "    y_hat = svm.predict(X_test)\n",
        "    acc[kernel] = metrics.accuracy_score(y_test, y_hat)\n",
        "    train_acc[kernel] = metrics.accuracy_score(y, svm.predict(X))\n",
        "    \n",
        "print(acc)\n",
        "print(train_acc)\n"
      ],
      "execution_count": null,
      "outputs": [
        {
          "output_type": "stream",
          "text": [
            "  0%|          | 0/4 [00:00<?, ?it/s]/Users/shirley/anaconda3/lib/python3.7/site-packages/sklearn/utils/validation.py:724: DataConversionWarning: A column-vector y was passed when a 1d array was expected. Please change the shape of y to (n_samples, ), for example using ravel().\n",
            "  y = column_or_1d(y, warn=True)\n",
            " 25%|██▌       | 1/4 [53:34<2:40:44, 3214.88s/it]/Users/shirley/anaconda3/lib/python3.7/site-packages/sklearn/utils/validation.py:724: DataConversionWarning: A column-vector y was passed when a 1d array was expected. Please change the shape of y to (n_samples, ), for example using ravel().\n",
            "  y = column_or_1d(y, warn=True)\n",
            "/Users/shirley/anaconda3/lib/python3.7/site-packages/sklearn/svm/base.py:193: FutureWarning: The default value of gamma will change from 'auto' to 'scale' in version 0.22 to account better for unscaled features. Set gamma explicitly to 'auto' or 'scale' to avoid this warning.\n",
            "  \"avoid this warning.\", FutureWarning)\n",
            " 50%|█████     | 2/4 [5:32:04<4:02:06, 7263.33s/it]/Users/shirley/anaconda3/lib/python3.7/site-packages/sklearn/utils/validation.py:724: DataConversionWarning: A column-vector y was passed when a 1d array was expected. Please change the shape of y to (n_samples, ), for example using ravel().\n",
            "  y = column_or_1d(y, warn=True)\n",
            "/Users/shirley/anaconda3/lib/python3.7/site-packages/sklearn/svm/base.py:193: FutureWarning: The default value of gamma will change from 'auto' to 'scale' in version 0.22 to account better for unscaled features. Set gamma explicitly to 'auto' or 'scale' to avoid this warning.\n",
            "  \"avoid this warning.\", FutureWarning)\n",
            " 75%|███████▌  | 3/4 [7:38:47<2:02:45, 7365.15s/it]/Users/shirley/anaconda3/lib/python3.7/site-packages/sklearn/utils/validation.py:724: DataConversionWarning: A column-vector y was passed when a 1d array was expected. Please change the shape of y to (n_samples, ), for example using ravel().\n",
            "  y = column_or_1d(y, warn=True)\n",
            "/Users/shirley/anaconda3/lib/python3.7/site-packages/sklearn/svm/base.py:193: FutureWarning: The default value of gamma will change from 'auto' to 'scale' in version 0.22 to account better for unscaled features. Set gamma explicitly to 'auto' or 'scale' to avoid this warning.\n",
            "  \"avoid this warning.\", FutureWarning)\n",
            "100%|██████████| 4/4 [9:49:05<00:00, 8836.33s/it]  "
          ],
          "name": "stderr"
        },
        {
          "output_type": "stream",
          "text": [
            "{'linear': 0.9513465854440526, 'poly': 0.6007801645826654, 'rbf': 0.9435716575825586, 'sigmoid': 0.9388692957144383}\n",
            "{'linear': 0.9535581988256301, 'poly': 0.6055556049071252, 'rbf': 0.9452434463582983, 'sigmoid': 0.940624139432003}\n"
          ],
          "name": "stdout"
        },
        {
          "output_type": "stream",
          "text": [
            "\n"
          ],
          "name": "stderr"
        }
      ]
    },
    {
      "cell_type": "markdown",
      "metadata": {
        "id": "SRPUQ6c943YQ"
      },
      "source": [
        "# miss classification analysis"
      ]
    },
    {
      "cell_type": "code",
      "metadata": {
        "id": "GfNW4bqb43YR",
        "outputId": "f902e8a7-f89f-4352-a749-24a23a8dfb5d"
      },
      "source": [
        "from sklearn.linear_model import LogisticRegression\n",
        "import sklearn.metrics as metrics\n",
        "\n",
        "X = train_embeddings.values\n",
        "y = train_labels.values\n",
        "X_test = test_embeddings.values\n",
        "y_test = test_labels.values\n",
        "import time\n",
        "start = time.time()\n",
        "logreg = LogisticRegression(random_state=1).fit(X, y)\n",
        "end = time.time()\n",
        "print(end - start)\n",
        "y_hat = logreg.predict(X_test)\n",
        "y_prob = logreg.predict_proba(X_test)\n",
        "acc = logreg.score(X_test, y_test)"
      ],
      "execution_count": null,
      "outputs": [
        {
          "output_type": "stream",
          "text": [
            "/Users/shirley/anaconda3/lib/python3.7/site-packages/sklearn/linear_model/logistic.py:432: FutureWarning: Default solver will be changed to 'lbfgs' in 0.22. Specify a solver to silence this warning.\n",
            "  FutureWarning)\n",
            "/Users/shirley/anaconda3/lib/python3.7/site-packages/sklearn/utils/validation.py:724: DataConversionWarning: A column-vector y was passed when a 1d array was expected. Please change the shape of y to (n_samples, ), for example using ravel().\n",
            "  y = column_or_1d(y, warn=True)\n"
          ],
          "name": "stderr"
        },
        {
          "output_type": "stream",
          "text": [
            "11.623427152633667\n"
          ],
          "name": "stdout"
        }
      ]
    },
    {
      "cell_type": "code",
      "metadata": {
        "id": "1fAyqTWg43YU",
        "outputId": "21342349-383e-4423-ecbf-978a5fbbacfd"
      },
      "source": [
        "# run the logistic regression before run this chuck\n",
        "\n",
        "miss_classified_test_ls = [id for id, item in enumerate(y_test) if item!= y_hat[id]]\n",
        "len(miss_classified_test_ls)"
      ],
      "execution_count": null,
      "outputs": [
        {
          "output_type": "execute_result",
          "data": {
            "text/plain": [
              "1877"
            ]
          },
          "metadata": {
            "tags": []
          },
          "execution_count": 4
        }
      ]
    },
    {
      "cell_type": "code",
      "metadata": {
        "id": "RY40rwpQ43YW"
      },
      "source": [
        "# read the image paths\n",
        "train_image = pd.read_csv(\"data/paths_labels_train.txt\", sep=\" \", header=None, index_col= 0)\n",
        "test_image = pd.read_csv(\"data/paths_labels_test.txt\", sep=\" \", header= None, index_col= 0)\n",
        "train_image.columns = ['path','label']\n",
        "test_image.columns = ['path','label']\n",
        "train_image.index.name = None\n",
        "test_image.index.name = None"
      ],
      "execution_count": null,
      "outputs": []
    },
    {
      "cell_type": "code",
      "metadata": {
        "id": "2lh1IguI43YY",
        "outputId": "98e44b78-d4fa-47bc-b35b-28c1061c0425"
      },
      "source": [
        "# check the miss classified image\n",
        "miss_classified_test = test_image.iloc[miss_classified_test_ls,:]\n",
        "predicted_label = pd.DataFrame(data=y_hat,  columns=[\"predicted_label\"])\n",
        "miss_classified_test = miss_classified_test.merge(predicted_label, left_index = True, right_index = True)\n",
        "print(miss_classified_test.shape)\n",
        "miss_classified_test.head()"
      ],
      "execution_count": null,
      "outputs": [
        {
          "output_type": "stream",
          "text": [
            "(1877, 3)\n"
          ],
          "name": "stdout"
        },
        {
          "output_type": "execute_result",
          "data": {
            "text/html": [
              "<div>\n",
              "<style scoped>\n",
              "    .dataframe tbody tr th:only-of-type {\n",
              "        vertical-align: middle;\n",
              "    }\n",
              "\n",
              "    .dataframe tbody tr th {\n",
              "        vertical-align: top;\n",
              "    }\n",
              "\n",
              "    .dataframe thead th {\n",
              "        text-align: right;\n",
              "    }\n",
              "</style>\n",
              "<table border=\"1\" class=\"dataframe\">\n",
              "  <thead>\n",
              "    <tr style=\"text-align: right;\">\n",
              "      <th></th>\n",
              "      <th>path</th>\n",
              "      <th>label</th>\n",
              "      <th>predicted_label</th>\n",
              "    </tr>\n",
              "  </thead>\n",
              "  <tbody>\n",
              "    <tr>\n",
              "      <th>125</th>\n",
              "      <td>test\\face\\10185.jpg</td>\n",
              "      <td>0</td>\n",
              "      <td>1</td>\n",
              "    </tr>\n",
              "    <tr>\n",
              "      <th>128</th>\n",
              "      <td>test\\face\\10188.jpg</td>\n",
              "      <td>0</td>\n",
              "      <td>1</td>\n",
              "    </tr>\n",
              "    <tr>\n",
              "      <th>179</th>\n",
              "      <td>test\\face\\1027.jpg</td>\n",
              "      <td>0</td>\n",
              "      <td>1</td>\n",
              "    </tr>\n",
              "    <tr>\n",
              "      <th>218</th>\n",
              "      <td>test\\face\\10331.jpg</td>\n",
              "      <td>0</td>\n",
              "      <td>1</td>\n",
              "    </tr>\n",
              "    <tr>\n",
              "      <th>239</th>\n",
              "      <td>test\\face\\10378.jpg</td>\n",
              "      <td>0</td>\n",
              "      <td>1</td>\n",
              "    </tr>\n",
              "  </tbody>\n",
              "</table>\n",
              "</div>"
            ],
            "text/plain": [
              "                    path  label  predicted_label\n",
              "125  test\\face\\10185.jpg      0                1\n",
              "128  test\\face\\10188.jpg      0                1\n",
              "179   test\\face\\1027.jpg      0                1\n",
              "218  test\\face\\10331.jpg      0                1\n",
              "239  test\\face\\10378.jpg      0                1"
            ]
          },
          "metadata": {
            "tags": []
          },
          "execution_count": 6
        }
      ]
    },
    {
      "cell_type": "code",
      "metadata": {
        "id": "WVjLWH4-43Yb",
        "outputId": "910404e2-90bd-4cb1-f0a9-d8222a47fd64"
      },
      "source": [
        "# seperate the miss classified images to fp and fn\n",
        "\n",
        "fp = miss_classified_test[(miss_classified_test[\"label\"] == 0 )& (miss_classified_test[\"predicted_label\"] == 1)]\n",
        "fn = miss_classified_test[(miss_classified_test[\"label\"] == 1 )& (miss_classified_test[\"predicted_label\"] == 0)]\n",
        "print(fp.shape)\n",
        "print(fn.shape)"
      ],
      "execution_count": null,
      "outputs": [
        {
          "output_type": "stream",
          "text": [
            "(878, 3)\n",
            "(999, 3)\n"
          ],
          "name": "stdout"
        }
      ]
    },
    {
      "cell_type": "code",
      "metadata": {
        "id": "dJoXtjOB43Ye"
      },
      "source": [
        "folder = \"data/\"\n",
        "def miss_gen(df):\n",
        "    for i in df.index:\n",
        "    \n",
        "        path = (folder + df['path'][i]).replace(\"\\\\\",\"/\")\n",
        "        img = Image.open(path)\n",
        "        img_resize = img.resize((160,160))\n",
        "        plt.figure()\n",
        "        f, axarr = plt.subplots(1,2)\n",
        "        if img.size[0] + img.size[1]<200:\n",
        "            yield axarr[0].imshow(img),axarr[1].imshow(img_resize),print(img.size),print(img_resize.size),print(\"true class:\", fn[\"label\"][i], \",\", \"predicted class:\", fn[\"predicted_label\"][i]), print(path)\n",
        "img_miss = miss_gen(fn)"
      ],
      "execution_count": null,
      "outputs": []
    },
    {
      "cell_type": "code",
      "metadata": {
        "id": "LYhp4OM143Yg",
        "outputId": "7337bf21-5a31-484c-cdd4-b66b2e0434d0"
      },
      "source": [
        "next(img_miss)"
      ],
      "execution_count": null,
      "outputs": [
        {
          "output_type": "stream",
          "text": [
            "(56, 75)\n",
            "(160, 160)\n",
            "true class: 1 , predicted class: 0\n",
            "data/test/mask/14113.jpg\n"
          ],
          "name": "stdout"
        },
        {
          "output_type": "execute_result",
          "data": {
            "text/plain": [
              "(<matplotlib.image.AxesImage at 0x7fc6327c49e8>,\n",
              " <matplotlib.image.AxesImage at 0x7fc6327c4cf8>,\n",
              " None,\n",
              " None,\n",
              " None,\n",
              " None)"
            ]
          },
          "metadata": {
            "tags": []
          },
          "execution_count": 86
        },
        {
          "output_type": "display_data",
          "data": {
            "text/plain": [
              "<Figure size 432x288 with 0 Axes>"
            ]
          },
          "metadata": {
            "tags": []
          }
        },
        {
          "output_type": "display_data",
          "data": {
            "image/png": "[encoded data removed]",
            "text/plain": [
              "<Figure size 432x288 with 2 Axes>"
            ]
          },
          "metadata": {
            "tags": [],
            "needs_background": "light"
          }
        },
        {
          "output_type": "display_data",
          "data": {
            "text/plain": [
              "<Figure size 432x288 with 0 Axes>"
            ]
          },
          "metadata": {
            "tags": []
          }
        },
        {
          "output_type": "display_data",
          "data": {
            "image/png": "[encoded data removed]",
            "text/plain": [
              "<Figure size 432x288 with 2 Axes>"
            ]
          },
          "metadata": {
            "tags": [],
            "needs_background": "light"
          }
        },
        {
          "output_type": "display_data",
          "data": {
            "text/plain": [
              "<Figure size 432x288 with 0 Axes>"
            ]
          },
          "metadata": {
            "tags": []
          }
        },
        {
          "output_type": "display_data",
          "data": {
            "image/png": "[encoded data removed]",
            "text/plain": [
              "<Figure size 432x288 with 2 Axes>"
            ]
          },
          "metadata": {
            "tags": [],
            "needs_background": "light"
          }
        },
        {
          "output_type": "display_data",
          "data": {
            "text/plain": [
              "<Figure size 432x288 with 0 Axes>"
            ]
          },
          "metadata": {
            "tags": []
          }
        },
        {
          "output_type": "display_data",
          "data": {
            "image/png": "[encoded data removed]",
            "text/plain": [
              "<Figure size 432x288 with 2 Axes>"
            ]
          },
          "metadata": {
            "tags": [],
            "needs_background": "light"
          }
        },
        {
          "output_type": "display_data",
          "data": {
            "text/plain": [
              "<Figure size 432x288 with 0 Axes>"
            ]
          },
          "metadata": {
            "tags": []
          }
        },
        {
          "output_type": "display_data",
          "data": {
            "image/png": "[encoded data removed]",
            "text/plain": [
              "<Figure size 432x288 with 2 Axes>"
            ]
          },
          "metadata": {
            "tags": [],
            "needs_background": "light"
          }
        },
        {
          "output_type": "display_data",
          "data": {
            "text/plain": [
              "<Figure size 432x288 with 0 Axes>"
            ]
          },
          "metadata": {
            "tags": []
          }
        },
        {
          "output_type": "display_data",
          "data": {
            "image/png": "[encoded data removed]",
            "text/plain": [
              "<Figure size 432x288 with 2 Axes>"
            ]
          },
          "metadata": {
            "tags": [],
            "needs_background": "light"
          }
        }
      ]
    },
    {
      "cell_type": "code",
      "metadata": {
        "id": "spRAflA643Yp"
      },
      "source": [
        "#size distribution fp\n",
        "\n",
        "def get_width_height(df, delete = False, remove = False):\n",
        "    error, pic_width, pic_height = [],[],[]\n",
        "    for i in df.index:\n",
        "        path = (folder + df['path'][i]).replace(\"\\\\\",\"/\")\n",
        "        img = Image.open(path)\n",
        "        if img is None:\n",
        "            error.append(path)\n",
        "            continue\n",
        "        height, width= img.size\n",
        "        if delete:\n",
        "            if height< 100 or width <100:\n",
        "                open(path, 'w').close()  # delete permanently\n",
        "                os.remove(path)\n",
        "        if remove:\n",
        "            if height< 100 or width <100:\n",
        "                new_path = remove +df['path'][i].split(\"\\\\\")[-1]\n",
        "                Path(path).rename(new_path)\n",
        "        pic_width.append(width)\n",
        "        pic_height.append(height)\n",
        "    return error, pic_width,pic_height"
      ],
      "execution_count": null,
      "outputs": []
    },
    {
      "cell_type": "code",
      "metadata": {
        "id": "yx4vn4sv43Yr"
      },
      "source": [
        "error_fp, pic_width_fp,pic_height_fp = get_width_height(fp)\n",
        "error_fn, pic_width_fn,pic_height_fn = get_width_height(fn)\n",
        "error, pic_width,pic_height = get_width_height(test_image)"
      ],
      "execution_count": null,
      "outputs": []
    },
    {
      "cell_type": "code",
      "metadata": {
        "id": "BMduavwf43Yt",
        "outputId": "15090c2e-877c-4259-d12f-82556d42d509"
      },
      "source": [
        "# for fp\n",
        "\n",
        "# as we have check the samll images are more likely to be only partial face\n",
        "\n",
        "count_small = max(len([i for i , v in enumerate(pic_height_fp) if v <100]),len([i for i , v in enumerate(pic_width_fp) if v <100]))\n",
        "print(count_small, count_small/len(pic_height_fp))\n",
        "\n",
        "# number of images smaller than 160 (at least one side)\n",
        "smaller = max(len([i for i , v in enumerate(pic_height_fp) if v <160]),len([i for i , v in enumerate(pic_width_fp) if v <160]))\n",
        "print(smaller,smaller/len(pic_height_fp))"
      ],
      "execution_count": null,
      "outputs": [
        {
          "output_type": "stream",
          "text": [
            "48 0.05466970387243736\n",
            "845 0.9624145785876993\n"
          ],
          "name": "stdout"
        }
      ]
    },
    {
      "cell_type": "code",
      "metadata": {
        "id": "wRbCXwxc43Yv",
        "outputId": "d0902ad3-38b6-4219-957f-d54eeeffd2c8"
      },
      "source": [
        "# for fn\n",
        "\n",
        "# as we have check the samll images are more likely to be only partial face\n",
        "\n",
        "count_small = max(len([i for i , v in enumerate(pic_height_fn) if v <100]),len([i for i , v in enumerate(pic_width_fn) if v <100]))\n",
        "print(count_small, count_small/len(pic_height_fn))\n",
        "\n",
        "# number of images smaller than 160 (at least one side)\n",
        "smaller = max(len([i for i , v in enumerate(pic_height_fn) if v <160]),len([i for i , v in enumerate(pic_width_fn) if v <160]))\n",
        "print(smaller, smaller/len(pic_height_fn))"
      ],
      "execution_count": null,
      "outputs": [
        {
          "output_type": "stream",
          "text": [
            "294 0.29429429429429427\n",
            "525 0.5255255255255256\n"
          ],
          "name": "stdout"
        }
      ]
    },
    {
      "cell_type": "code",
      "metadata": {
        "id": "OKnBr4TW43Yy",
        "outputId": "dd75c727-440c-436d-9667-043449829dfa"
      },
      "source": [
        "# the whole test set\n",
        "\n",
        "# as we have check the samll images are more likely to be only partial face\n",
        "\n",
        "count_small = max(len([i for i , v in enumerate(pic_height) if v <100]),len([i for i , v in enumerate(pic_width) if v <100]))\n",
        "print(count_small, count_small/len(pic_height))\n",
        "\n",
        "# number of images smaller than 160 (at least one side)\n",
        "smaller = max(len([i for i , v in enumerate(pic_height) if v <160]),len([i for i , v in enumerate(pic_width) if v <160]))\n",
        "print(smaller,  smaller/len(pic_height))"
      ],
      "execution_count": null,
      "outputs": [
        {
          "output_type": "stream",
          "text": [
            "2478 0.06620711766591857\n",
            "25399 0.6786095970930854\n"
          ],
          "name": "stdout"
        }
      ]
    },
    {
      "cell_type": "markdown",
      "metadata": {
        "id": "jwBmE2Xj43Y0"
      },
      "source": [
        "from the comparison above, for fn images the small(<100) images might be a reason for why they are miss classified. For fp it seems it contains a lot images whose size is smaller than 160. It seems that our algo is better on larger images."
      ]
    },
    {
      "cell_type": "code",
      "metadata": {
        "id": "HgZa7PxK43Y1",
        "outputId": "978238bb-53c1-4f79-dc5c-c4a5965a7e66"
      },
      "source": [
        "plt.figure(figsize=(10,7))\n",
        "plt.scatter(pic_width,pic_height, alpha= 0.5)\n",
        "plt.axvline(x=160,color = 'r')\n",
        "plt.axhline(y=160, color = 'r')\n",
        "plt.title(\"images size in the whole test set\")"
      ],
      "execution_count": null,
      "outputs": [
        {
          "output_type": "execute_result",
          "data": {
            "text/plain": [
              "Text(0.5, 1.0, 'images size in the whole test set')"
            ]
          },
          "metadata": {
            "tags": []
          },
          "execution_count": 43
        },
        {
          "output_type": "display_data",
          "data": {
            "image/png": "[encoded data removed]",
            "text/plain": [
              "<Figure size 720x504 with 1 Axes>"
            ]
          },
          "metadata": {
            "tags": [],
            "needs_background": "light"
          }
        }
      ]
    },
    {
      "cell_type": "code",
      "metadata": {
        "id": "Ns09i9kI43Y3",
        "outputId": "51a3f75f-4596-4265-c32e-bd3c36db65e8"
      },
      "source": [
        "ratio = [a/b for a, b in zip(pic_width, pic_height)]\n",
        "plt.figure(figsize=(10,7))\n",
        "plt.hist(ratio, bins = 50)\n",
        "plt.title(\"images ratio(width/height) in the whole test set\")"
      ],
      "execution_count": null,
      "outputs": [
        {
          "output_type": "execute_result",
          "data": {
            "text/plain": [
              "Text(0.5, 1.0, 'images ratio(width/height) in the whole test set')"
            ]
          },
          "metadata": {
            "tags": []
          },
          "execution_count": 96
        },
        {
          "output_type": "display_data",
          "data": {
            "image/png": "[encoded data removed]",
            "text/plain": [
              "<Figure size 720x504 with 1 Axes>"
            ]
          },
          "metadata": {
            "tags": [],
            "needs_background": "light"
          }
        }
      ]
    },
    {
      "cell_type": "code",
      "metadata": {
        "id": "bQf_IEAa43Y5",
        "outputId": "d01eadd9-9646-47d8-dd00-ce15becd8737"
      },
      "source": [
        "plt.figure(figsize=(10,7))\n",
        "plt.scatter(pic_width_fp,pic_height_fp, alpha= 0.5)\n",
        "plt.axvline(x=160,color = 'r')\n",
        "plt.axhline(y=160, color = 'r')\n",
        "plt.title(\"images size in fp\")"
      ],
      "execution_count": null,
      "outputs": [
        {
          "output_type": "execute_result",
          "data": {
            "text/plain": [
              "Text(0.5, 1.0, 'images size in fp')"
            ]
          },
          "metadata": {
            "tags": []
          },
          "execution_count": 44
        },
        {
          "output_type": "display_data",
          "data": {
            "image/png": "[encoded data removed]",
            "text/plain": [
              "<Figure size 720x504 with 1 Axes>"
            ]
          },
          "metadata": {
            "tags": [],
            "needs_background": "light"
          }
        }
      ]
    },
    {
      "cell_type": "code",
      "metadata": {
        "id": "BhWe-TDr43Y7",
        "outputId": "c2097ec0-e56a-48bf-cfd9-e83ab2e2615c"
      },
      "source": [
        "ratio = [a/b for a, b in zip(pic_width_fp, pic_height_fp)]\n",
        "plt.figure(figsize=(10,7))\n",
        "plt.hist(ratio, bins = 50)\n",
        "plt.title(\"images ratio(width/height) in fp\")"
      ],
      "execution_count": null,
      "outputs": [
        {
          "output_type": "execute_result",
          "data": {
            "text/plain": [
              "Text(0.5, 1.0, 'images ratio(width/height) in fp')"
            ]
          },
          "metadata": {
            "tags": []
          },
          "execution_count": 97
        },
        {
          "output_type": "display_data",
          "data": {
            "image/png": "[encoded data removed]",
            "text/plain": [
              "<Figure size 720x504 with 1 Axes>"
            ]
          },
          "metadata": {
            "tags": [],
            "needs_background": "light"
          }
        }
      ]
    },
    {
      "cell_type": "code",
      "metadata": {
        "id": "1SJA4dpb43Y-",
        "outputId": "2fad040e-9d4f-42cf-fa7a-08a019a5ca20"
      },
      "source": [
        "plt.figure(figsize=(10,7))\n",
        "plt.scatter(pic_width_fn,pic_height_fn, alpha= 0.5)\n",
        "plt.axvline(x=160,color = 'r')\n",
        "plt.axhline(y=160, color = 'r')\n",
        "plt.title(\"images size in fn\")"
      ],
      "execution_count": null,
      "outputs": [
        {
          "output_type": "execute_result",
          "data": {
            "text/plain": [
              "Text(0.5, 1.0, 'images size in fn')"
            ]
          },
          "metadata": {
            "tags": []
          },
          "execution_count": 45
        },
        {
          "output_type": "display_data",
          "data": {
            "image/png": "[encoded data removed]",
            "text/plain": [
              "<Figure size 720x504 with 1 Axes>"
            ]
          },
          "metadata": {
            "tags": [],
            "needs_background": "light"
          }
        }
      ]
    },
    {
      "cell_type": "code",
      "metadata": {
        "id": "CrY7_clS43ZA",
        "outputId": "9bb7ef59-6443-47c8-9b9f-dc953f49d0c6"
      },
      "source": [
        "ratio = [a/b for a, b in zip(pic_width_fn, pic_height_fn)]\n",
        "plt.figure(figsize=(10,7))\n",
        "plt.hist(ratio, bins = 50)\n",
        "plt.title(\"images ratio(width/height) in fn\")"
      ],
      "execution_count": null,
      "outputs": [
        {
          "output_type": "execute_result",
          "data": {
            "text/plain": [
              "Text(0.5, 1.0, 'images ratio(width/height) in fn')"
            ]
          },
          "metadata": {
            "tags": []
          },
          "execution_count": 98
        },
        {
          "output_type": "display_data",
          "data": {
            "image/png": "[encoded data removed]",
            "text/plain": [
              "<Figure size 720x504 with 1 Axes>"
            ]
          },
          "metadata": {
            "tags": [],
            "needs_background": "light"
          }
        }
      ]
    },
    {
      "cell_type": "markdown",
      "metadata": {
        "id": "1ncglLbV43ZC"
      },
      "source": [
        "most of the images are around 1 width/height ratio. In fp there is few images with large ratio, while in fn there is a lot with high ratio."
      ]
    },
    {
      "cell_type": "markdown",
      "metadata": {
        "id": "dLq3HJ1K43ZC"
      },
      "source": [
        "* not sure if we need to remove all images that have at least one side <100. It seems for fp they are compeletly wrong pic while for fn they are more likely to be an normal image.\n",
        "* the ratio may more affect the fn\n",
        "* not sure why there will be a lot fp images with size around 160-100?"
      ]
    },
    {
      "cell_type": "markdown",
      "metadata": {
        "id": "oxNwfSut43ZD"
      },
      "source": [
        "# Next Step\n",
        "* discuss if we need to remove all images less than 100\n",
        "* change the resize function\n",
        "* do the same for training set to see if we need to remove those small images\n",
        "* manually check the test set and remove those without mouth or with wrong label\n",
        "* normalize the embeddings"
      ]
    },
    {
      "cell_type": "code",
      "metadata": {
        "id": "hBsm5ZK243ZD",
        "outputId": "5a697d70-2398-45d2-ff22-b26eb7b33d09"
      },
      "source": [
        "# do the same for training set\n",
        "\n",
        "error_train, pic_width_train,pic_height_train = get_width_height(train_image)\n",
        "\n",
        "# as we have check the samll images are more likely to be only partial face\n",
        "\n",
        "count_small = max(len([i for i , v in enumerate(pic_height_train) if v <100]),len([i for i , v in enumerate(pic_width_train) if v <100]))\n",
        "print(count_small, count_small/len(pic_height_train))\n",
        "\n",
        "# number of images smaller than 160 (at least one side)\n",
        "smaller = max(len([i for i , v in enumerate(pic_height_train) if v <160]),len([i for i , v in enumerate(pic_width_train) if v <160]))\n",
        "print(smaller,smaller/len(pic_height_train))\n",
        "\n",
        "print(len(error_train))"
      ],
      "execution_count": null,
      "outputs": [
        {
          "output_type": "stream",
          "text": [
            "7302 8.316628701594533\n",
            "76829 0.6824937150775955\n",
            "0\n"
          ],
          "name": "stdout"
        }
      ]
    },
    {
      "cell_type": "code",
      "metadata": {
        "id": "fCkN-8cN43ZF",
        "outputId": "675992b7-8091-480d-d4d5-6b0b0d4a7209"
      },
      "source": [
        "print(count_small, count_small/len(pic_height_train))"
      ],
      "execution_count": null,
      "outputs": [
        {
          "output_type": "stream",
          "text": [
            "7302 0.06486572918424817\n"
          ],
          "name": "stdout"
        }
      ]
    },
    {
      "cell_type": "code",
      "metadata": {
        "id": "8PXcqXrt43ZI",
        "outputId": "cfbe95e4-6bee-4187-def5-1f9c8f100b73"
      },
      "source": [
        "train_image.shape"
      ],
      "execution_count": null,
      "outputs": [
        {
          "output_type": "execute_result",
          "data": {
            "text/plain": [
              "(112571, 2)"
            ]
          },
          "metadata": {
            "tags": []
          },
          "execution_count": 120
        }
      ]
    },
    {
      "cell_type": "code",
      "metadata": {
        "id": "5U9AeHlW43ZK",
        "outputId": "bc606a20-d514-4b49-9f25-c2127fa0e08a"
      },
      "source": [
        "plt.figure(figsize=(10,7))\n",
        "plt.scatter(pic_width_train,pic_height_train, alpha= 0.5)\n",
        "plt.axvline(x=160,color = 'r')\n",
        "plt.axhline(y=160, color = 'r')\n",
        "plt.title(\"images size in training set\")"
      ],
      "execution_count": null,
      "outputs": [
        {
          "output_type": "execute_result",
          "data": {
            "text/plain": [
              "Text(0.5, 1.0, 'images size in training set')"
            ]
          },
          "metadata": {
            "tags": []
          },
          "execution_count": 119
        },
        {
          "output_type": "display_data",
          "data": {
            "image/png": "[encoded data removed]",
            "text/plain": [
              "<Figure size 720x504 with 1 Axes>"
            ]
          },
          "metadata": {
            "tags": [],
            "needs_background": "light"
          }
        }
      ]
    },
    {
      "cell_type": "code",
      "metadata": {
        "id": "EnnkbtZh43ZM",
        "outputId": "69a9cb22-0b77-4dd4-fcb6-4ec50606a720"
      },
      "source": [
        "ratio = [a/b for a, b in zip(pic_width_train, pic_height_train)]\n",
        "plt.figure(figsize=(10,7))\n",
        "plt.hist(ratio, bins = 50)\n",
        "plt.title(\"images ratio(width/height) in training set\")"
      ],
      "execution_count": null,
      "outputs": [
        {
          "output_type": "execute_result",
          "data": {
            "text/plain": [
              "Text(0.5, 1.0, 'images ratio(width/height) in training set')"
            ]
          },
          "metadata": {
            "tags": []
          },
          "execution_count": 118
        },
        {
          "output_type": "display_data",
          "data": {
            "image/png": "[encoded data removed]",
            "text/plain": [
              "<Figure size 720x504 with 1 Axes>"
            ]
          },
          "metadata": {
            "tags": [],
            "needs_background": "light"
          }
        }
      ]
    },
    {
      "cell_type": "markdown",
      "metadata": {
        "id": "R5pniAF543ZO"
      },
      "source": [
        "The distribution of ratio and number of small images are quite same in training and test set\n",
        "* should we remove the smaller(<100) images?"
      ]
    },
    {
      "cell_type": "markdown",
      "metadata": {
        "id": "Y4y1Nr6D43ZP"
      },
      "source": [
        "## remove the small images"
      ]
    },
    {
      "cell_type": "code",
      "metadata": {
        "id": "xlelvJLH43ZP"
      },
      "source": [
        "# remove all miss classified images to miss_c folder \n",
        "\n",
        "from pathlib import Path\n",
        "def remove(df, current, destination):\n",
        "    for i in df.index:\n",
        "        try:\n",
        "            path = (current + df['path'][i]).replace(\"\\\\\",\"/\")\n",
        "            new_path = destination +df['path'][i].split(\"\\\\\")[-1]\n",
        "            Path(path).rename(new_path)\n",
        "        except:\n",
        "            continue\n",
        "\n",
        "\n",
        "\n",
        "\n"
      ],
      "execution_count": null,
      "outputs": []
    },
    {
      "cell_type": "code",
      "metadata": {
        "id": "TKzCPg0L43ZR"
      },
      "source": [
        "remove(miss_classified_test, \"data/\", \"data/miss_c\")\n",
        "# manually remove 187 low quality images"
      ],
      "execution_count": null,
      "outputs": []
    },
    {
      "cell_type": "code",
      "metadata": {
        "id": "vKkzDW7o43ZT"
      },
      "source": [
        "# put those images back\n",
        "for i in miss_classified_test.index:\n",
        "    name = miss_classified_test['path'][i].split(\"\\\\\")[-1]\n",
        "    if name in os.listdir(\"data/miss_c\"):\n",
        "        path = \"data/miss_c/\" + name\n",
        "        new_path = \"data/\" + miss_classified_test[\"path\"][i].replace(\"\\\\\",\"/\")\n",
        "        Path(path).rename(new_path)"
      ],
      "execution_count": null,
      "outputs": []
    },
    {
      "cell_type": "code",
      "metadata": {
        "id": "n-63-Ybu43ZV"
      },
      "source": [
        "remove(fp,\"data/\",\"data/miss_c_fp/\")\n",
        "remove(fn,\"data/\",\"data/miss_c_fn/\")"
      ],
      "execution_count": null,
      "outputs": []
    },
    {
      "cell_type": "markdown",
      "metadata": {
        "id": "mBVWWOvM43ZX"
      },
      "source": [
        "remove about 60 images from fp and fn including wrong labeled images and low quality images as well as face covered by something else other than mask."
      ]
    },
    {
      "cell_type": "code",
      "metadata": {
        "id": "O9tL2tfc43ZX"
      },
      "source": [
        "# put those images back\n",
        "for i in miss_classified_test.index:\n",
        "    name = miss_classified_test['path'][i].split(\"\\\\\")[-1]\n",
        "    if name in os.listdir(\"data/miss_c_fn\"):\n",
        "        path = \"data/miss_c_fn/\" + name\n",
        "        new_path = \"data/\" + miss_classified_test[\"path\"][i].replace(\"\\\\\",\"/\")\n",
        "        Path(path).rename(new_path)\n",
        "    if name in os.listdir(\"data/miss_c_fp\"):\n",
        "        path = \"data/miss_c_fp/\" + name\n",
        "        new_path = \"data/\" + miss_classified_test[\"path\"][i].replace(\"\\\\\",\"/\")\n",
        "        Path(path).rename(new_path)"
      ],
      "execution_count": null,
      "outputs": []
    },
    {
      "cell_type": "code",
      "metadata": {
        "id": "I3TMeG9T43Za"
      },
      "source": [
        "# remove all small images(<100) to small_100_train/test folder\n",
        "\n",
        "error_clean, pic_width_clean,pic_height_clean = get_width_height(test_image, remove =\"data/small_100_test/\")\n",
        "error_train_clean, pic_width_train_clean,pic_height_train_clean = get_width_height(train_image, remove = \"data/small_100_train/\")"
      ],
      "execution_count": null,
      "outputs": []
    },
    {
      "cell_type": "markdown",
      "metadata": {
        "id": "2leVGyfW43Zc"
      },
      "source": [
        "## number of images after cleaning\n",
        "* test: 34873, testface:22250, trainmask:12622\n",
        "* train: 105778, trainface:67934, trainmask:37843\n",
        "\n",
        "we again have the imbalanced data problem..."
      ]
    },
    {
      "cell_type": "code",
      "metadata": {
        "id": "yKcRvlKg43Zc"
      },
      "source": [
        ""
      ],
      "execution_count": null,
      "outputs": []
    }
  ]
}