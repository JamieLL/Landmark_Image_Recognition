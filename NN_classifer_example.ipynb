{
  "nbformat": 4,
  "nbformat_minor": 0,
  "metadata": {
    "kernelspec": {
      "display_name": "Python 3",
      "language": "python",
      "name": "python3"
    },
    "language_info": {
      "codemirror_mode": {
        "name": "ipython",
        "version": 3
      },
      "file_extension": ".py",
      "mimetype": "text/x-python",
      "name": "python",
      "nbconvert_exporter": "python",
      "pygments_lexer": "ipython3",
      "version": "3.7.3"
    },
    "colab": {
      "name": "NN_classifer_example.ipynb",
      "provenance": [],
      "collapsed_sections": [],
      "include_colab_link": true
    }
  },
  "cells": [
    {
      "cell_type": "markdown",
      "metadata": {
        "id": "view-in-github",
        "colab_type": "text"
      },
      "source": [
        "<a href=\"https://colab.research.google.com/github/Tonyz4516/detector-for-masked-faces/blob/master/NN_classifer_example.ipynb\" target=\"_parent\"><img src=\"https://colab.research.google.com/assets/colab-badge.svg\" alt=\"Open In Colab\"/></a>"
      ]
    },
    {
      "cell_type": "code",
      "metadata": {
        "id": "ojnWOoTaYCKx"
      },
      "source": [
        "import NN_classifier as nn\n",
        "import pandas as pd"
      ],
      "execution_count": null,
      "outputs": []
    },
    {
      "cell_type": "code",
      "metadata": {
        "id": "LxI9fHbcYCK1"
      },
      "source": [
        "# read the data\n",
        "\n",
        "train_embeddings = pd.read_csv(\"data/cleaned/embarray_train.txt\", sep=\" \", header=None)\n",
        "test_embeddings = pd.read_csv(\"data/cleaned/embarray_test.txt\", sep=\" \", header=None)\n",
        "train_labels = pd.read_csv(\"data/cleaned/paths_labels_train.txt\", sep=\" \", header=None, index_col = 0)\n",
        "test_labels = pd.read_csv(\"data/cleaned/paths_labels_test.txt\", sep=\" \", header= None, index_col = 0)\n",
        "train_labels.columns = [\"path\",\"label\"]\n",
        "test_labels.columns = [\"path\",\"label\"]\n",
        "train_labels.index.name = None\n",
        "test_labels.index.name = None"
      ],
      "execution_count": null,
      "outputs": []
    },
    {
      "cell_type": "code",
      "metadata": {
        "id": "lCcSwrg8YCK4",
        "outputId": "9c813693-d030-45e6-b3ef-9613a3c2992e"
      },
      "source": [
        "import NN_classifier as nn\n",
        "\n",
        "\n",
        "# scale = False will return data without scaling\n",
        "Xtrain, Ytrain,Xtest, Ytest = nn.get_normalized_data(train_embeddings,train_labels,test_embeddings,test_labels)\n",
        "\n",
        "model = nn.TFNN(\"./tf.model\")\n",
        "model.fit(Xtrain, Ytrain, Xtest, Ytest)\n",
        "\n",
        "# test out the model via the predict function\n",
        "print(\"final train accuracy :\", model.predict(Xtrain, Ytrain)[1])\n",
        "print(\"final test accuracy :\", model.predict(Xtest, Ytest)[1])\n",
        "\n",
        "# save the model\n",
        "model.save(\"NN_model.json\")\n",
        "\n",
        "# load and score again\n",
        "model = nn.TFNN.load(\"NN_model.json\")\n",
        "print(\"final train accuracy (after reload):\", model.predict(Xtrain, Ytrain)[1])\n",
        "print(\"final test accuracy (after reload):\", model.predict(Xtest, Ytest)[1])\n"
      ],
      "execution_count": null,
      "outputs": [
        {
          "output_type": "stream",
          "text": [
            "Training Accuracy= 0.974000\n",
            "Training Accuracy= 0.995000\n",
            "Training Accuracy= 0.998000\n",
            "Training Accuracy= 0.998000\n",
            "Training Accuracy= 0.997000\n",
            "Test Accuracy= 0.995988\n",
            "INFO:tensorflow:Restoring parameters from ./tf.model\n",
            "final train accuracy : 0.9981827\n",
            "INFO:tensorflow:Restoring parameters from ./tf.model\n",
            "final test accuracy : 0.9959878\n",
            "INFO:tensorflow:Restoring parameters from ./tf.model\n",
            "final train accuracy (after reload): 0.9981827\n",
            "INFO:tensorflow:Restoring parameters from ./tf.model\n",
            "final test accuracy (after reload): 0.9959878\n"
          ],
          "name": "stdout"
        }
      ]
    },
    {
      "cell_type": "code",
      "metadata": {
        "id": "2GPkb5SyYCK7"
      },
      "source": [
        ""
      ],
      "execution_count": null,
      "outputs": []
    }
  ]
}