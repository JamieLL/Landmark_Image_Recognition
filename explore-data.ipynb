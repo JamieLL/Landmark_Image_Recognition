{
 "cells": [
  {
   "cell_type": "code",
   "execution_count": 15,
   "metadata": {},
   "outputs": [],
   "source": [
    "import os\n",
    "import plotly\n",
    "import pandas as pd\n",
    "import numpy as np"
   ]
  },
  {
   "cell_type": "code",
   "execution_count": 11,
   "metadata": {},
   "outputs": [],
   "source": [
    "folder1 = \"Documents/face-mask-data/1-Real-world masked face recognition dataset/\"\n",
    "folder3 = \"Documents/face-mask-data/3-masked-whn/\""
   ]
  },
  {
   "cell_type": "code",
   "execution_count": 7,
   "metadata": {},
   "outputs": [
    {
     "data": {
      "text/plain": [
       "['AFDB_face_dataset', 'AFDB_masked_face_dataset', 'Readme.docx']"
      ]
     },
     "execution_count": 7,
     "metadata": {},
     "output_type": "execute_result"
    }
   ],
   "source": [
    "folder1 + 'AFDB_face_dataset'\n",
    "folder1 + 'AFDB_masked_face_dataset'"
   ]
  },
  {
   "cell_type": "code",
   "execution_count": 49,
   "metadata": {},
   "outputs": [],
   "source": [
    "name, mask, count = [], [], []\n",
    "names = set(list(os.listdir(folder1 + 'AFDB_face_dataset'))\n",
    "           + list(os.listdir(folder1 + 'AFDB_masked_face_dataset')))\n",
    "names = list(names)"
   ]
  },
  {
   "cell_type": "code",
   "execution_count": 50,
   "metadata": {},
   "outputs": [],
   "source": [
    "face_folder = set(os.listdir(folder1 + 'AFDB_face_dataset/'))\n",
    "mask_folder = set(os.listdir(folder1 + 'AFDB_masked_face_dataset/'))"
   ]
  },
  {
   "cell_type": "code",
   "execution_count": 51,
   "metadata": {},
   "outputs": [],
   "source": [
    "for n in names:\n",
    "    num_faces = len(list(os.listdir(folder1 + 'AFDB_face_dataset/' + n))) if n in face_folder else 0  \n",
    "    num_masks = len(list(os.listdir(folder1 + 'AFDB_masked_face_dataset/' + n))) if n in mask_folder else 0\n",
    "    name += [n,n]\n",
    "    mask += [\"coverd\",\"unmasked\"]\n",
    "    count += [num_masks,num_faces]"
   ]
  },
  {
   "cell_type": "code",
   "execution_count": 54,
   "metadata": {},
   "outputs": [],
   "source": [
    "matrix = [name, mask, count]\n",
    "df = pd.DataFrame(np.array(matrix).T,columns=[\"name\", 'mask', 'count'])"
   ]
  },
  {
   "cell_type": "code",
   "execution_count": 56,
   "metadata": {},
   "outputs": [],
   "source": [
    "import plotly.express as px\n",
    "\n",
    "fig = px.bar(df, x=\"name\", y=\"count\", color=\"mask\", title=\"distribution of real mask dataset\")\n",
    "fig.write_html(\"Documents/the_plot.html\")"
   ]
  }
 ],
 "metadata": {
  "kernelspec": {
   "display_name": "Python 3",
   "language": "python",
   "name": "python3"
  },
  "language_info": {
   "codemirror_mode": {
    "name": "ipython",
    "version": 3
   },
   "file_extension": ".py",
   "mimetype": "text/x-python",
   "name": "python",
   "nbconvert_exporter": "python",
   "pygments_lexer": "ipython3",
   "version": "3.7.9"
  }
 },
 "nbformat": 4,
 "nbformat_minor": 4
}
