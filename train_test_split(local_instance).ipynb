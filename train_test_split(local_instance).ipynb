{
  "nbformat": 4,
  "nbformat_minor": 0,
  "metadata": {
    "colab": {
      "name": "train_test_split(local_instance)",
      "provenance": [],
      "collapsed_sections": [],
      "include_colab_link": true
    },
    "kernelspec": {
      "name": "python3",
      "display_name": "Python 3"
    }
  },
  "cells": [
    {
      "cell_type": "markdown",
      "metadata": {
        "id": "view-in-github",
        "colab_type": "text"
      },
      "source": [
        "<a href=\"https://colab.research.google.com/github/Tonyz4516/detector-for-masked-faces/blob/master/train_test_split(local_instance).ipynb\" target=\"_parent\"><img src=\"https://colab.research.google.com/assets/colab-badge.svg\" alt=\"Open In Colab\"/></a>"
      ]
    },
    {
      "cell_type": "code",
      "metadata": {
        "id": "lrrk8RcDXTtI",
        "outputId": "997125c0-9ee7-4388-84e7-391a8021b7f2",
        "colab": {
          "base_uri": "https://localhost:8080/",
          "height": 34
        }
      },
      "source": [
        "from google.colab import drive\n",
        "drive.mount('/content/drive')"
      ],
      "execution_count": null,
      "outputs": [
        {
          "output_type": "stream",
          "text": [
            "Drive already mounted at /content/drive; to attempt to forcibly remount, call drive.mount(\"/content/drive\", force_remount=True).\n"
          ],
          "name": "stdout"
        }
      ]
    },
    {
      "cell_type": "code",
      "metadata": {
        "id": "6MmqDu9DYTif",
        "outputId": "7abce6fe-6d16-4a30-dd68-61c3fca72d64",
        "colab": {
          "base_uri": "https://localhost:8080/",
          "height": 34
        }
      },
      "source": [
        "!ls drive/My\\ Drive/5500_data"
      ],
      "execution_count": null,
      "outputs": [
        {
          "output_type": "stream",
          "text": [
            "masked_whn  self-built-masked-face-recognition-dataset\tunmasked_whn\n"
          ],
          "name": "stdout"
        }
      ]
    },
    {
      "cell_type": "code",
      "metadata": {
        "id": "wiZcepJwYJoi"
      },
      "source": [
        "masked_folder1 = \"drive/My Drive/5500_data/self-built-masked-face-recognition-dataset/AFDB_masked_face_dataset/\"\n",
        "masked_folder2 = \"drive/My Drive/5500_data/masked_whn/\"\n",
        "\n",
        "unmasked_folder1 = \"drive/My Drive/5500_data/self-built-masked-face-recognition-dataset/AFDB_face_dataset/\"\n",
        "unmasked_folder2 = \"drive/My Drive/5500_data/unmasked_whn/\""
      ],
      "execution_count": null,
      "outputs": []
    },
    {
      "cell_type": "markdown",
      "metadata": {
        "id": "n_HheqU_hQC-"
      },
      "source": [
        "Now we create a train / test folder and copy all processed image to the two folders"
      ]
    },
    {
      "cell_type": "code",
      "metadata": {
        "id": "tth7nIg6hPL0"
      },
      "source": [
        "import os \n",
        "import shutil\n",
        "from tqdm import tqdm\n",
        "import pandas as pd\n",
        "import numpy as np"
      ],
      "execution_count": 1,
      "outputs": []
    },
    {
      "cell_type": "code",
      "metadata": {
        "id": "a9MveehN17KF"
      },
      "source": [
        "masked_folder1 = \"C:/Users/Shadow/Documents/5500_data/self-built-masked-face-recognition-dataset/AFDB_masked_face_dataset/\"\n",
        "masked_folder2 = \"C:/Users/Shadow/Documents/5500_data/masked_whn/\"\n",
        "\n",
        "unmasked_folder1 = \"C:/Users/Shadow/Documents/5500_data/self-built-masked-face-recognition-dataset/AFDB_face_dataset/\"\n",
        "unmasked_folder2 = \"C:/Users/Shadow/Documents/5500_data/unmasked_whn/\""
      ],
      "execution_count": 2,
      "outputs": []
    },
    {
      "cell_type": "code",
      "metadata": {
        "id": "1UWC8sK1m_86",
        "outputId": "01b07182-db3c-478f-ca7b-12425b2d711e",
        "colab": {
          "base_uri": "https://localhost:8080/",
          "height": 34
        }
      },
      "source": [
        "# number of masked photos: 60106\n",
        "count = 0\n",
        "for sub in os.listdir(masked_folder1):\n",
        "    count += len(os.listdir(masked_folder1 + sub))\n",
        "for sub in os.listdir(masked_folder2):\n",
        "    count += len(os.listdir(masked_folder2 + sub))\n",
        "count"
      ],
      "execution_count": 3,
      "outputs": [
        {
          "output_type": "execute_result",
          "data": {
            "text/plain": [
              "60184"
            ]
          },
          "metadata": {
            "tags": []
          },
          "execution_count": 3
        }
      ]
    },
    {
      "cell_type": "code",
      "metadata": {
        "id": "liIO7jZwoKlT",
        "outputId": "bebb8918-1860-4e9a-85b4-999ec2768ccf",
        "colab": {
          "base_uri": "https://localhost:8080/",
          "height": 34
        }
      },
      "source": [
        "# number of unmasked photos: 90723 (if it says 90894, there is some minor issue we can fix later)\n",
        "count = 0\n",
        "for sub in os.listdir(unmasked_folder1):\n",
        "    count += len(os.listdir(unmasked_folder1 + sub))\n",
        "for sub in os.listdir(unmasked_folder2):\n",
        "    count += len(os.listdir(unmasked_folder2 + sub))\n",
        "count"
      ],
      "execution_count": 4,
      "outputs": [
        {
          "output_type": "execute_result",
          "data": {
            "text/plain": [
              "90723"
            ]
          },
          "metadata": {
            "tags": []
          },
          "execution_count": 4
        }
      ]
    },
    {
      "cell_type": "code",
      "metadata": {
        "id": "f5Y9XfTWot_B"
      },
      "source": [
        "df = {\"label\": [], \"image_path\": []}\n",
        "\n",
        "def image_info2df(folder_path, label):\n",
        "    folder1 = os.listdir(folder_path)\n",
        "    for i in tqdm(range(len(folder1))):\n",
        "        subf = folder1[i]\n",
        "        for f in os.listdir(folder_path + subf):\n",
        "            df[\"label\"].append(label)\n",
        "            df[\"image_path\"].append(folder_path + subf + \"/\" + f)"
      ],
      "execution_count": 5,
      "outputs": []
    },
    {
      "cell_type": "code",
      "metadata": {
        "id": "6ZiY-JtfqfhW",
        "outputId": "5224f0af-c121-47a1-9215-872c8f2172ae",
        "colab": {
          "base_uri": "https://localhost:8080/",
          "height": 87
        }
      },
      "source": [
        "image_info2df(masked_folder1, \"mask\")\n",
        "image_info2df(masked_folder2, \"mask\")\n",
        "image_info2df(unmasked_folder1, \"face\")\n",
        "image_info2df(unmasked_folder2, \"face\")"
      ],
      "execution_count": 6,
      "outputs": [
        {
          "output_type": "stream",
          "text": [
            "100%|██████████████████████████████████████████████████████████████████████████████| 524/524 [00:00<00:00, 1230.04it/s]\n",
            "100%|██████████████████████████████████████████████████████████████████████████████| 427/427 [00:00<00:00, 1701.17it/s]\n",
            "100%|███████████████████████████████████████████████████████████████████████████████| 459/459 [00:00<00:00, 485.44it/s]\n",
            "100%|██████████████████████████████████████████████████████████████████████████████| 426/426 [00:00<00:00, 5394.60it/s]\n"
          ],
          "name": "stderr"
        }
      ]
    },
    {
      "cell_type": "code",
      "metadata": {
        "id": "cp3zR-hDq8mp"
      },
      "source": [
        "data = pd.DataFrame.from_dict(df)"
      ],
      "execution_count": 7,
      "outputs": []
    },
    {
      "cell_type": "code",
      "metadata": {
        "id": "zDctv33dry1Y",
        "outputId": "737bceb1-8549-4823-b192-5cd150289182",
        "colab": {
          "base_uri": "https://localhost:8080/",
          "height": 358
        }
      },
      "source": [
        "data.head(10)"
      ],
      "execution_count": 8,
      "outputs": [
        {
          "output_type": "execute_result",
          "data": {
            "text/plain": [
              "  label                                         image_path\n",
              "0  mask  C:/Users/Shadow/Documents/5500_data/self-built...\n",
              "1  mask  C:/Users/Shadow/Documents/5500_data/self-built...\n",
              "2  mask  C:/Users/Shadow/Documents/5500_data/self-built...\n",
              "3  mask  C:/Users/Shadow/Documents/5500_data/self-built...\n",
              "4  mask  C:/Users/Shadow/Documents/5500_data/self-built...\n",
              "5  mask  C:/Users/Shadow/Documents/5500_data/self-built...\n",
              "6  mask  C:/Users/Shadow/Documents/5500_data/self-built...\n",
              "7  mask  C:/Users/Shadow/Documents/5500_data/self-built...\n",
              "8  mask  C:/Users/Shadow/Documents/5500_data/self-built...\n",
              "9  mask  C:/Users/Shadow/Documents/5500_data/self-built..."
            ],
            "text/html": [
              "<div>\n",
              "<style scoped>\n",
              "    .dataframe tbody tr th:only-of-type {\n",
              "        vertical-align: middle;\n",
              "    }\n",
              "\n",
              "    .dataframe tbody tr th {\n",
              "        vertical-align: top;\n",
              "    }\n",
              "\n",
              "    .dataframe thead th {\n",
              "        text-align: right;\n",
              "    }\n",
              "</style>\n",
              "<table border=\"1\" class=\"dataframe\">\n",
              "  <thead>\n",
              "    <tr style=\"text-align: right;\">\n",
              "      <th></th>\n",
              "      <th>label</th>\n",
              "      <th>image_path</th>\n",
              "    </tr>\n",
              "  </thead>\n",
              "  <tbody>\n",
              "    <tr>\n",
              "      <th>0</th>\n",
              "      <td>mask</td>\n",
              "      <td>C:/Users/Shadow/Documents/5500_data/self-built...</td>\n",
              "    </tr>\n",
              "    <tr>\n",
              "      <th>1</th>\n",
              "      <td>mask</td>\n",
              "      <td>C:/Users/Shadow/Documents/5500_data/self-built...</td>\n",
              "    </tr>\n",
              "    <tr>\n",
              "      <th>2</th>\n",
              "      <td>mask</td>\n",
              "      <td>C:/Users/Shadow/Documents/5500_data/self-built...</td>\n",
              "    </tr>\n",
              "    <tr>\n",
              "      <th>3</th>\n",
              "      <td>mask</td>\n",
              "      <td>C:/Users/Shadow/Documents/5500_data/self-built...</td>\n",
              "    </tr>\n",
              "    <tr>\n",
              "      <th>4</th>\n",
              "      <td>mask</td>\n",
              "      <td>C:/Users/Shadow/Documents/5500_data/self-built...</td>\n",
              "    </tr>\n",
              "    <tr>\n",
              "      <th>5</th>\n",
              "      <td>mask</td>\n",
              "      <td>C:/Users/Shadow/Documents/5500_data/self-built...</td>\n",
              "    </tr>\n",
              "    <tr>\n",
              "      <th>6</th>\n",
              "      <td>mask</td>\n",
              "      <td>C:/Users/Shadow/Documents/5500_data/self-built...</td>\n",
              "    </tr>\n",
              "    <tr>\n",
              "      <th>7</th>\n",
              "      <td>mask</td>\n",
              "      <td>C:/Users/Shadow/Documents/5500_data/self-built...</td>\n",
              "    </tr>\n",
              "    <tr>\n",
              "      <th>8</th>\n",
              "      <td>mask</td>\n",
              "      <td>C:/Users/Shadow/Documents/5500_data/self-built...</td>\n",
              "    </tr>\n",
              "    <tr>\n",
              "      <th>9</th>\n",
              "      <td>mask</td>\n",
              "      <td>C:/Users/Shadow/Documents/5500_data/self-built...</td>\n",
              "    </tr>\n",
              "  </tbody>\n",
              "</table>\n",
              "</div>"
            ]
          },
          "metadata": {
            "tags": []
          },
          "execution_count": 8
        }
      ]
    },
    {
      "cell_type": "code",
      "metadata": {
        "id": "dPbi7daGt1LT",
        "outputId": "bf3dbfd2-8900-4b2d-ec65-59cb184be898",
        "colab": {
          "base_uri": "https://localhost:8080/",
          "height": 34
        }
      },
      "source": [
        "data.shape"
      ],
      "execution_count": 9,
      "outputs": [
        {
          "output_type": "execute_result",
          "data": {
            "text/plain": [
              "(150907, 2)"
            ]
          },
          "metadata": {
            "tags": []
          },
          "execution_count": 9
        }
      ]
    },
    {
      "cell_type": "code",
      "metadata": {
        "id": "DQD9uyl-sxF9"
      },
      "source": [
        "import random\n",
        "loc = list(range(data.shape[0]))\n",
        "random.seed(42)\n",
        "random.shuffle(loc)"
      ],
      "execution_count": 10,
      "outputs": []
    },
    {
      "cell_type": "code",
      "metadata": {
        "id": "gHA1I1bytAEB",
        "outputId": "8d4822cb-5310-4f40-f834-19e8a34bb3a1",
        "colab": {
          "base_uri": "https://localhost:8080/",
          "height": 34
        }
      },
      "source": [
        "loc[:10]"
      ],
      "execution_count": 11,
      "outputs": [
        {
          "output_type": "execute_result",
          "data": {
            "text/plain": [
              "[64653, 14700, 18524, 41368, 10355, 10616, 34346, 139196, 137885, 114774]"
            ]
          },
          "metadata": {
            "tags": []
          },
          "execution_count": 11
        }
      ]
    },
    {
      "cell_type": "code",
      "metadata": {
        "id": "8r_W2BkgtgTl"
      },
      "source": [
        "train_loc = loc[:113250]  # first 75%\n",
        "test_loc = loc[113250:]\n",
        "train_set = data.iloc[train_loc,]\n",
        "# data.iloc[train_loc,].to_csv(\"drive/My Drive/5500_data/train_list.csv\")\n",
        "# data.iloc[test_loc,].to_csv(\"drive/My Drive/5500_data/test_list.csv\")"
      ],
      "execution_count": 13,
      "outputs": []
    },
    {
      "cell_type": "code",
      "metadata": {
        "id": "5JnvMYgIuMVq",
        "outputId": "cb9a39a3-e0e3-46e4-a825-a2c67b87c59c",
        "colab": {
          "base_uri": "https://localhost:8080/",
          "height": 34
        }
      },
      "source": [
        "for i in tqdm(range(train_set.shape[0])):\n",
        "    file_name = str(i) + \".\" + train_set.iloc[i,1].split(\".\")[-1]\n",
        "    if train_set.iloc[i,0] == \"mask\":\n",
        "        shutil.copy(train_set.iloc[i,1], \"C:/Users/Shadow/Documents/5500_data/masktrain/\" + file_name)\n",
        "    else:\n",
        "        shutil.copy(train_set.iloc[i,1], \"C:/Users/Shadow/Documents/5500_data/facetrain/\" + file_name)"
      ],
      "execution_count": 34,
      "outputs": [
        {
          "output_type": "stream",
          "text": [
            "100%|█████████████████████████████████████████████████████████████████████████| 113250/113250 [05:46<00:00, 326.81it/s]\n"
          ],
          "name": "stderr"
        }
      ]
    },
    {
      "cell_type": "code",
      "metadata": {
        "id": "WyN_Hu7c9n9h",
        "outputId": "ac31db9e-270f-4827-db89-f095b1b27aa8",
        "colab": {
          "base_uri": "https://localhost:8080/",
          "height": 34
        }
      },
      "source": [
        "len(os.listdir(\"C:/Users/Shadow/Documents/5500_data/mask_train\"))"
      ],
      "execution_count": 37,
      "outputs": [
        {
          "output_type": "execute_result",
          "data": {
            "text/plain": [
              "45029"
            ]
          },
          "metadata": {
            "tags": []
          },
          "execution_count": 37
        }
      ]
    },
    {
      "cell_type": "code",
      "metadata": {
        "id": "iLj6pSD0-fv4",
        "outputId": "715d6c26-a258-4f8f-98b8-edee45d5b089",
        "colab": {
          "base_uri": "https://localhost:8080/",
          "height": 34
        }
      },
      "source": [
        "len(os.listdir(\"C:/Users/Shadow/Documents/5500_data/face_train\"))"
      ],
      "execution_count": 38,
      "outputs": [
        {
          "output_type": "execute_result",
          "data": {
            "text/plain": [
              "68221"
            ]
          },
          "metadata": {
            "tags": []
          },
          "execution_count": 38
        }
      ]
    },
    {
      "cell_type": "code",
      "metadata": {
        "id": "PBoUl0LuQVh8",
        "outputId": "4eed0866-d613-4444-cd6a-fa2c986229f5",
        "colab": {
          "base_uri": "https://localhost:8080/",
          "height": 34
        }
      },
      "source": [
        "test_set = data.iloc[test_loc,]\n",
        "for i in tqdm(range(test_set.shape[0])):\n",
        "    file_name = str(i) + \".\" + test_set.iloc[i,1].split(\".\")[-1]\n",
        "    if test_set.iloc[i,0] == \"mask\":\n",
        "        shutil.copy(test_set.iloc[i,1], \"C:/Users/Shadow/Documents/5500_data/masktest/\" + file_name)\n",
        "    else:\n",
        "        shutil.copy(test_set.iloc[i,1], \"C:/Users/Shadow/Documents/5500_data/facetest/\" + file_name)"
      ],
      "execution_count": 39,
      "outputs": [
        {
          "output_type": "stream",
          "text": [
            "100%|███████████████████████████████████████████████████████████████████████████| 37657/37657 [05:59<00:00, 104.64it/s]\n"
          ],
          "name": "stderr"
        }
      ]
    }
  ]
}