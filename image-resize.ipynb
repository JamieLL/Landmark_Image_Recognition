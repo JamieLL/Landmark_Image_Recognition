{
 "cells": [
  {
   "cell_type": "code",
   "execution_count": null,
   "metadata": {},
   "outputs": [],
   "source": [
    "# To resize all images to (160, 160)\n",
    "trainpath = \"..\\data\\\\train_raw\"\n",
    "testpath = \"..\\data\\\\test_raw\"\n",
    "train_outputpath = '../data/train/'\n",
    "test_outputpath = '../data/test/'"
   ]
  },
  {
   "cell_type": "code",
   "execution_count": null,
   "metadata": {},
   "outputs": [],
   "source": [
    "from PIL import Image\n",
    "import os"
   ]
  },
  {
   "cell_type": "code",
   "execution_count": null,
   "metadata": {},
   "outputs": [],
   "source": [
    "def resize(file_dir, outputpath):\n",
    "    for root, dirs, files in os.walk(file_dir):\n",
    "#         print(root, dirs, files)\n",
    "        for i in files:\n",
    "            if i.endswith('.jpg'):\n",
    "                try:\n",
    "                    im=Image.open(root+\"/\"+i)\n",
    "                    out=im.resize((160,160))\n",
    "                    out.save(outputpath+root.split(\"\\\\\")[-1]+\"/\"+i)\n",
    "                except:\n",
    "                    print(i)"
   ]
  },
  {
   "cell_type": "code",
   "execution_count": null,
   "metadata": {},
   "outputs": [],
   "source": [
    "resize(trainpath, train_outputpath)"
   ]
  },
  {
   "cell_type": "markdown",
   "metadata": {},
   "source": [
    "exception: \\\n",
    "10391.jpg \\\n",
    "17191.jpg \\\n",
    "19578.jpg \\\n",
    "22428.jpg \\\n",
    "32638.jpg \\\n",
    "349.jpg \\\n",
    "95045.jpg"
   ]
  },
  {
   "cell_type": "code",
   "execution_count": null,
   "metadata": {},
   "outputs": [],
   "source": [
    "resize(testpath, test_outputpath)"
   ]
  },
  {
   "cell_type": "markdown",
   "metadata": {},
   "source": [
    "exceptions: \\\n",
    "4103.jpg \\\n",
    "6165.jpg \\\n",
    "7353.jpg"
   ]
  }
 ],
 "metadata": {
  "kernelspec": {
   "display_name": "Python 3",
   "language": "python",
   "name": "python3"
  },
  "language_info": {
   "codemirror_mode": {
    "name": "ipython",
    "version": 3
   },
   "file_extension": ".py",
   "mimetype": "text/x-python",
   "name": "python",
   "nbconvert_exporter": "python",
   "pygments_lexer": "ipython3",
   "version": "3.7.3"
  }
 },
 "nbformat": 4,
 "nbformat_minor": 4
}
